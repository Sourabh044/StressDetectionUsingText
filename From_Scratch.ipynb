{
 "cells": [
  {
   "cell_type": "code",
   "execution_count": 7,
   "metadata": {},
   "outputs": [],
   "source": [
    "import numpy as np\n",
    "import pandas as pd"
   ]
  },
  {
   "cell_type": "code",
   "execution_count": 3,
   "metadata": {},
   "outputs": [],
   "source": [
    "ndf = pd.read_csv('processedNegative.csv')\n",
    "ndf = ndf.T"
   ]
  },
  {
   "cell_type": "code",
   "execution_count": 5,
   "metadata": {},
   "outputs": [
    {
     "data": {
      "text/html": [
       "<div>\n",
       "<style scoped>\n",
       "    .dataframe tbody tr th:only-of-type {\n",
       "        vertical-align: middle;\n",
       "    }\n",
       "\n",
       "    .dataframe tbody tr th {\n",
       "        vertical-align: top;\n",
       "    }\n",
       "\n",
       "    .dataframe thead th {\n",
       "        text-align: right;\n",
       "    }\n",
       "</style>\n",
       "<table border=\"1\" class=\"dataframe\">\n",
       "  <thead>\n",
       "    <tr style=\"text-align: right;\">\n",
       "      <th></th>\n",
       "    </tr>\n",
       "  </thead>\n",
       "  <tbody>\n",
       "    <tr>\n",
       "      <th>How unhappy  some dogs like it though</th>\n",
       "    </tr>\n",
       "    <tr>\n",
       "      <th>talking to my over driver about where I'm goinghe said he'd love to go to New York too but since Trump it's probably not</th>\n",
       "    </tr>\n",
       "    <tr>\n",
       "      <th>Does anybody know if the Rand's likely to fall against the dollar? I got some money  I need to change into R but it keeps getting stronger unhappy</th>\n",
       "    </tr>\n",
       "    <tr>\n",
       "      <th>I miss going to gigs in Liverpool unhappy</th>\n",
       "    </tr>\n",
       "    <tr>\n",
       "      <th>There isnt a new Riverdale tonight ? unhappy</th>\n",
       "    </tr>\n",
       "    <tr>\n",
       "      <th>...</th>\n",
       "    </tr>\n",
       "    <tr>\n",
       "      <th>wish knock out lang talaga for the new school year are good and cooperative groupmates please unhappy</th>\n",
       "    </tr>\n",
       "    <tr>\n",
       "      <th>i miss so much unhappy</th>\n",
       "    </tr>\n",
       "    <tr>\n",
       "      <th>Same unhappy .1</th>\n",
       "    </tr>\n",
       "    <tr>\n",
       "      <th>Hi instant message your friend  friend lang</th>\n",
       "    </tr>\n",
       "    <tr>\n",
       "      <th>hindi close friend? unhappy</th>\n",
       "    </tr>\n",
       "  </tbody>\n",
       "</table>\n",
       "<p>1117 rows × 0 columns</p>\n",
       "</div>"
      ],
      "text/plain": [
       "Empty DataFrame\n",
       "Columns: []\n",
       "Index: [How unhappy  some dogs like it though, talking to my over driver about where I'm goinghe said he'd love to go to New York too but since Trump it's probably not, Does anybody know if the Rand's likely to fall against the dollar? I got some money  I need to change into R but it keeps getting stronger unhappy , I miss going to gigs in Liverpool unhappy , There isnt a new Riverdale tonight ? unhappy , it's that A*dy guy from pop Asia and then the translator so they'll probs go with them around Aus unhappy , Who's that chair you're sitting in? Is this how I find out. Everyone knows now. You've shamed me in pu, don't like how jittery caffeine makes me sad , My area's not on the list unhappy  think I'll go LibDems anyway, I want fun plans this weekend unhappy , When can you notice me.  unhappy  what?  , Ahhhhh! You recognized LOGAN!!! Cinemax shows have a BAD track record for getting cancelled unhappy , Errr dude.... They're gone unhappy  Asked other league memeber to check  the guys are go , Not you again sad  , Why would Harvey be going to prison? unhappy , Missing in crying  Seaside area. , Becoz if we will depend on your promoting its waste of hardwork to all team who , I thought you'll save me crying , major waffle cravings right now sad , cant speak japanese ::(, how can people do stuff like this unhappy  , please just stop confining animals in zoos unhappy  , Feel like i shoyould be telling you to get the fuck out social media byout also feel really mean because unhappy  silence  love yoyou hope yoyoure okay , i miss you huhu so busy unhappy , it was extended family. 12 ppl.ahh wanted to show a Oh My Girl being dorky while playing a game but it got deleted unhappy , Don't do that unhappy , Jamie can you please reset the CGa grandfinal server... no administrator are responding unhappy , noOoooooo YOU GONNA MISS THE BUFFET unhappy  TAKE CARE AIN!!!!!!!!!!!!!!!!! , I wish i could vote for you unhappy , instant message so jealous okay unhappy  but never mind haha bruno can wait finals first, when i'm enlisting can please turn up like this unhappy  , unhappy  how come people like this have children where's the state intervention , Ouchhhhh unhappy  , Help... I want to stop tweeting. All I feel is endless suffering and pain. I tried to deactivate myself many times... Save me... unhappy , For those asking,  the application is Kana Kanji Funtime! Sadly,  it looks like iOS 11 is due to kill it unhappy  , Yeah did update to 16.04 ,  it froze a few times. Then went to 16.10,  froze mid install. Waited 3hrs he'd to pull plug crying , Shaandaar,  Zabardast,  Another ATBB on it's way ! I wish Srk Sir starts signing good movies unhappy  , I want Jabee crying , sociopath full raid gear sad  , When will you say hi sunshine ? unhappy  , i feel bad for doing that AHAHA unhappy , it's getting harder and harder to stay unhappy , His face looks bloated unhappy  baby get well soon , fuck. tried changing my settings but still in india. unhappy , talking to my over driver about where I'm goinghe said he'd love to go to New York too but since Trump it's probably not.1, Let's not forget that it's also Gabriel Tenma White's birthday today!I miss unhappy  , Why am i always taken for granted eversince unhappy , Ah alright,  i don%27t know if you saw my comment yet,  but what camera you shooting with,  does it have flip out scr , I miss Louis' tweets unhappy , Koalas are dying of thirst  and it's all because of us unhappy  , okay I'll shut up now. instant message just mad that lots of people will now have a VERY flawed opinion on mental health ( on mine) because of this show unhappy , pamura isa because in this very moment,  i want to explode like a grenade to the point where people will die with me. sad , YG should have sent them to MCD. I want to see them holding the trophy unhappy  anyways , i really want one of those iconic jimin stripes turtleneck shirt unhappy , I want a spoons but I cant go unhappy  honestly feels like a messy break up unhappy , Makes me so sad unhappy  they looked so unhappy when I went to SeaWorld , YG should have sent them to MCD. I want to see them holding the trophy unhappy  anyways .1, I miss Rockys posts unhappy  , Hey Tony,  oh no unhappy  Could you please tell me a little more about your issue? Im following if youd prefer to DM. Amanda, i love mason and miss mason unhappy , Cold as a mother crusher right now. Nearing the end of April. sad , we don%27t talk anymore like we used to do unhappy , YG should have sent them to MCD. I want to see them holding the trophy unhappy  anyways .2, miss biking unhappy , I miss Big brother unhappy , 6 days in camp haiss miss you a lot unhappy , It's raining so hard unhappy , Am bored and kandowiandg I have ando plaands for today is makiandg me eveand more bored unhappy , oh my god not laurie penny unhappy , can you say Hi Mekisha? unhappy , I should never draw again unhappy , Cleantha , Visual Studio Installation - 89% .. BSOD comes suddenly unhappy , i want to make waffles unhappy , So sad unhappy  , crying  muh feels, Look like somethings i will ignore xD Kart Racing when? unhappy , did ate jenna just blocked me or what? unhappy , My bed is so comfortable I don't want to get up unhappy , Is that store still in use? If so,  I sincerely hope not too many priceless antiques were destroyed. Reg , Astaga unhappy  /? , I want a puppy now unhappy , have to work unhappy  but i'll see you tomorrow!! , happy weed day without them is not the same anymore unhappy , my favourite lipstick hilang crying , Time just flies,  can't believe he will be year for next year unhappy  We're becoming old HAHAHAH :v, The new Twitter reply view has me confused... like do I capitalise my replies to people or not? unhappy , ...]\n",
       "\n",
       "[1117 rows x 0 columns]"
      ]
     },
     "execution_count": 5,
     "metadata": {},
     "output_type": "execute_result"
    }
   ],
   "source": [
    "ndf"
   ]
  },
  {
   "cell_type": "code",
   "execution_count": null,
   "metadata": {},
   "outputs": [],
   "source": [
    "ndf['label'] = 1\n"
   ]
  },
  {
   "cell_type": "code",
   "execution_count": null,
   "metadata": {},
   "outputs": [
    {
     "data": {
      "text/html": [
       "<div>\n",
       "<style scoped>\n",
       "    .dataframe tbody tr th:only-of-type {\n",
       "        vertical-align: middle;\n",
       "    }\n",
       "\n",
       "    .dataframe tbody tr th {\n",
       "        vertical-align: top;\n",
       "    }\n",
       "\n",
       "    .dataframe thead th {\n",
       "        text-align: right;\n",
       "    }\n",
       "</style>\n",
       "<table border=\"1\" class=\"dataframe\">\n",
       "  <thead>\n",
       "    <tr style=\"text-align: right;\">\n",
       "      <th></th>\n",
       "      <th>label</th>\n",
       "    </tr>\n",
       "  </thead>\n",
       "  <tbody>\n",
       "    <tr>\n",
       "      <th>How unhappy  some dogs like it though</th>\n",
       "      <td>1</td>\n",
       "    </tr>\n",
       "    <tr>\n",
       "      <th>talking to my over driver about where I'm goinghe said he'd love to go to New York too but since Trump it's probably not</th>\n",
       "      <td>1</td>\n",
       "    </tr>\n",
       "    <tr>\n",
       "      <th>Does anybody know if the Rand's likely to fall against the dollar? I got some money  I need to change into R but it keeps getting stronger unhappy</th>\n",
       "      <td>1</td>\n",
       "    </tr>\n",
       "    <tr>\n",
       "      <th>I miss going to gigs in Liverpool unhappy</th>\n",
       "      <td>1</td>\n",
       "    </tr>\n",
       "    <tr>\n",
       "      <th>There isnt a new Riverdale tonight ? unhappy</th>\n",
       "      <td>1</td>\n",
       "    </tr>\n",
       "  </tbody>\n",
       "</table>\n",
       "</div>"
      ],
      "text/plain": [
       "                                                    label\n",
       "How unhappy  some dogs like it though                   1\n",
       "talking to my over driver about where I'm going...      1\n",
       "Does anybody know if the Rand's likely to fall ...      1\n",
       "I miss going to gigs in Liverpool unhappy               1\n",
       "There isnt a new Riverdale tonight ? unhappy            1"
      ]
     },
     "execution_count": 43,
     "metadata": {},
     "output_type": "execute_result"
    }
   ],
   "source": [
    "ndf.head()"
   ]
  },
  {
   "cell_type": "code",
   "execution_count": null,
   "metadata": {},
   "outputs": [],
   "source": [
    "pdf = pd.read_csv('processedPositive.csv')"
   ]
  },
  {
   "cell_type": "code",
   "execution_count": null,
   "metadata": {},
   "outputs": [],
   "source": [
    "pdf = pdf.T"
   ]
  },
  {
   "cell_type": "code",
   "execution_count": null,
   "metadata": {},
   "outputs": [
    {
     "data": {
      "text/html": [
       "<div>\n",
       "<style scoped>\n",
       "    .dataframe tbody tr th:only-of-type {\n",
       "        vertical-align: middle;\n",
       "    }\n",
       "\n",
       "    .dataframe tbody tr th {\n",
       "        vertical-align: top;\n",
       "    }\n",
       "\n",
       "    .dataframe thead th {\n",
       "        text-align: right;\n",
       "    }\n",
       "</style>\n",
       "<table border=\"1\" class=\"dataframe\">\n",
       "  <thead>\n",
       "    <tr style=\"text-align: right;\">\n",
       "      <th></th>\n",
       "    </tr>\n",
       "  </thead>\n",
       "  <tbody>\n",
       "    <tr>\n",
       "      <th>An inspiration in all aspects: Fashion</th>\n",
       "    </tr>\n",
       "    <tr>\n",
       "      <th>fitness</th>\n",
       "    </tr>\n",
       "    <tr>\n",
       "      <th>beauty and personality. :)KISSES TheFashionIcon</th>\n",
       "    </tr>\n",
       "    <tr>\n",
       "      <th>Apka Apna Awam Ka Channel Frankline Tv Aam Admi Production Please Visit Or Likes  Share :)Fb Page :...</th>\n",
       "    </tr>\n",
       "    <tr>\n",
       "      <th>Beautiful album from  the greatest unsung guitar genius of our time - and I've met the great backstage</th>\n",
       "    </tr>\n",
       "  </tbody>\n",
       "</table>\n",
       "</div>"
      ],
      "text/plain": [
       "Empty DataFrame\n",
       "Columns: []\n",
       "Index: [An inspiration in all aspects: Fashion,  fitness,  beauty and personality. :)KISSES TheFashionIcon, Apka Apna Awam Ka Channel Frankline Tv Aam Admi Production Please Visit Or Likes  Share :)Fb Page :..., Beautiful album from  the greatest unsung guitar genius of our time - and I've met the great backstage]"
      ]
     },
     "execution_count": 46,
     "metadata": {},
     "output_type": "execute_result"
    }
   ],
   "source": [
    "pdf.head()"
   ]
  },
  {
   "cell_type": "code",
   "execution_count": null,
   "metadata": {},
   "outputs": [],
   "source": [
    "pdf['label'] = 0"
   ]
  },
  {
   "cell_type": "code",
   "execution_count": null,
   "metadata": {},
   "outputs": [
    {
     "data": {
      "text/html": [
       "<div>\n",
       "<style scoped>\n",
       "    .dataframe tbody tr th:only-of-type {\n",
       "        vertical-align: middle;\n",
       "    }\n",
       "\n",
       "    .dataframe tbody tr th {\n",
       "        vertical-align: top;\n",
       "    }\n",
       "\n",
       "    .dataframe thead th {\n",
       "        text-align: right;\n",
       "    }\n",
       "</style>\n",
       "<table border=\"1\" class=\"dataframe\">\n",
       "  <thead>\n",
       "    <tr style=\"text-align: right;\">\n",
       "      <th></th>\n",
       "      <th>label</th>\n",
       "    </tr>\n",
       "  </thead>\n",
       "  <tbody>\n",
       "    <tr>\n",
       "      <th>An inspiration in all aspects: Fashion</th>\n",
       "      <td>0</td>\n",
       "    </tr>\n",
       "    <tr>\n",
       "      <th>fitness</th>\n",
       "      <td>0</td>\n",
       "    </tr>\n",
       "    <tr>\n",
       "      <th>beauty and personality. :)KISSES TheFashionIcon</th>\n",
       "      <td>0</td>\n",
       "    </tr>\n",
       "    <tr>\n",
       "      <th>Apka Apna Awam Ka Channel Frankline Tv Aam Admi Production Please Visit Or Likes  Share :)Fb Page :...</th>\n",
       "      <td>0</td>\n",
       "    </tr>\n",
       "    <tr>\n",
       "      <th>Beautiful album from  the greatest unsung guitar genius of our time - and I've met the great backstage</th>\n",
       "      <td>0</td>\n",
       "    </tr>\n",
       "  </tbody>\n",
       "</table>\n",
       "</div>"
      ],
      "text/plain": [
       "                                                    label\n",
       "An inspiration in all aspects: Fashion                  0\n",
       " fitness                                                0\n",
       " beauty and personality. :)KISSES TheFashionIcon        0\n",
       "Apka Apna Awam Ka Channel Frankline Tv Aam Admi...      0\n",
       "Beautiful album from  the greatest unsung guita...      0"
      ]
     },
     "execution_count": 48,
     "metadata": {},
     "output_type": "execute_result"
    }
   ],
   "source": [
    "pdf.head()"
   ]
  },
  {
   "cell_type": "code",
   "execution_count": null,
   "metadata": {},
   "outputs": [
    {
     "name": "stderr",
     "output_type": "stream",
     "text": [
      "C:\\Users\\Sourabh\\AppData\\Local\\Temp\\ipykernel_5480\\2743873504.py:1: FutureWarning: The frame.append method is deprecated and will be removed from pandas in a future version. Use pandas.concat instead.\n",
      "  df = ndf.append(pdf)\n"
     ]
    }
   ],
   "source": [
    "df = ndf.append(pdf)"
   ]
  },
  {
   "cell_type": "code",
   "execution_count": 21,
   "metadata": {},
   "outputs": [
    {
     "ename": "NameError",
     "evalue": "name 'df' is not defined",
     "output_type": "error",
     "traceback": [
      "\u001b[1;31m---------------------------------------------------------------------------\u001b[0m",
      "\u001b[1;31mNameError\u001b[0m                                 Traceback (most recent call last)",
      "\u001b[1;32me:\\Study Material\\CDAC\\Project\\Stress Detection Program\\From_Scratch.ipynb Cell 12'\u001b[0m in \u001b[0;36m<cell line: 2>\u001b[1;34m()\u001b[0m\n\u001b[0;32m      <a href='vscode-notebook-cell:/e%3A/Study%20Material/CDAC/Project/Stress%20Detection%20Program/From_Scratch.ipynb#ch0000011?line=0'>1</a>\u001b[0m \u001b[39m# Shuffling the dataset\u001b[39;00m\n\u001b[1;32m----> <a href='vscode-notebook-cell:/e%3A/Study%20Material/CDAC/Project/Stress%20Detection%20Program/From_Scratch.ipynb#ch0000011?line=1'>2</a>\u001b[0m df \u001b[39m=\u001b[39m df\u001b[39m.\u001b[39msample(frac\u001b[39m=\u001b[39m\u001b[39m1\u001b[39m)\n",
      "\u001b[1;31mNameError\u001b[0m: name 'df' is not defined"
     ]
    }
   ],
   "source": [
    "# Shuffling the dataset\n",
    "df = df.sample(frac=1)"
   ]
  },
  {
   "cell_type": "code",
   "execution_count": null,
   "metadata": {},
   "outputs": [
    {
     "data": {
      "text/html": [
       "<div>\n",
       "<style scoped>\n",
       "    .dataframe tbody tr th:only-of-type {\n",
       "        vertical-align: middle;\n",
       "    }\n",
       "\n",
       "    .dataframe tbody tr th {\n",
       "        vertical-align: top;\n",
       "    }\n",
       "\n",
       "    .dataframe thead th {\n",
       "        text-align: right;\n",
       "    }\n",
       "</style>\n",
       "<table border=\"1\" class=\"dataframe\">\n",
       "  <thead>\n",
       "    <tr style=\"text-align: right;\">\n",
       "      <th></th>\n",
       "      <th>label</th>\n",
       "    </tr>\n",
       "  </thead>\n",
       "  <tbody>\n",
       "    <tr>\n",
       "      <th>Thank you happy.1</th>\n",
       "      <td>0</td>\n",
       "    </tr>\n",
       "    <tr>\n",
       "      <th>That would be a great trick happy.3</th>\n",
       "      <td>0</td>\n",
       "    </tr>\n",
       "    <tr>\n",
       "      <th>unhappy  every time laughing my ass off</th>\n",
       "      <td>1</td>\n",
       "    </tr>\n",
       "    <tr>\n",
       "      <th>have a blast okay. love you!</th>\n",
       "      <td>1</td>\n",
       "    </tr>\n",
       "    <tr>\n",
       "      <th>Enjoy happy</th>\n",
       "      <td>0</td>\n",
       "    </tr>\n",
       "  </tbody>\n",
       "</table>\n",
       "</div>"
      ],
      "text/plain": [
       "                                         label\n",
       "Thank you happy.1                            0\n",
       "That would be a great trick happy.3          0\n",
       "unhappy  every time laughing my ass off      1\n",
       " have a blast okay. love you!                1\n",
       "Enjoy happy                                  0"
      ]
     },
     "execution_count": 51,
     "metadata": {},
     "output_type": "execute_result"
    }
   ],
   "source": [
    "df.head()"
   ]
  },
  {
   "cell_type": "code",
   "execution_count": null,
   "metadata": {},
   "outputs": [],
   "source": [
    "df.to_csv('preprocessedNP.csv')"
   ]
  },
  {
   "cell_type": "code",
   "execution_count": 6,
   "metadata": {},
   "outputs": [],
   "source": [
    "# now prerocessing 16 million tweets data"
   ]
  },
  {
   "cell_type": "code",
   "execution_count": 14,
   "metadata": {},
   "outputs": [],
   "source": [
    "datam = pd.read_csv('16mProcessed.csv')\n",
    "datam.columns = ['useless','text','label']\n",
    "# data16m[\"label\"] = data16m[\"label\"].map({0: 1, 4: 0})"
   ]
  },
  {
   "cell_type": "code",
   "execution_count": 17,
   "metadata": {},
   "outputs": [],
   "source": [
    "# data16m.drop(columns='useless')\n",
    "datam.drop(columns='useless',inplace=True)"
   ]
  },
  {
   "cell_type": "code",
   "execution_count": 19,
   "metadata": {},
   "outputs": [],
   "source": [
    "datam[\"label\"] = datam[\"label\"].map({0: 1, 4: 0})"
   ]
  },
  {
   "cell_type": "code",
   "execution_count": 20,
   "metadata": {},
   "outputs": [
    {
     "data": {
      "text/html": [
       "<div>\n",
       "<style scoped>\n",
       "    .dataframe tbody tr th:only-of-type {\n",
       "        vertical-align: middle;\n",
       "    }\n",
       "\n",
       "    .dataframe tbody tr th {\n",
       "        vertical-align: top;\n",
       "    }\n",
       "\n",
       "    .dataframe thead th {\n",
       "        text-align: right;\n",
       "    }\n",
       "</style>\n",
       "<table border=\"1\" class=\"dataframe\">\n",
       "  <thead>\n",
       "    <tr style=\"text-align: right;\">\n",
       "      <th></th>\n",
       "      <th>text</th>\n",
       "      <th>label</th>\n",
       "    </tr>\n",
       "  </thead>\n",
       "  <tbody>\n",
       "    <tr>\n",
       "      <th>0</th>\n",
       "      <td>is upset that he can't update his Facebook by ...</td>\n",
       "      <td>1</td>\n",
       "    </tr>\n",
       "    <tr>\n",
       "      <th>1</th>\n",
       "      <td>@Kenichan I dived many times for the ball. Man...</td>\n",
       "      <td>1</td>\n",
       "    </tr>\n",
       "    <tr>\n",
       "      <th>2</th>\n",
       "      <td>my whole body feels itchy and like its on fire</td>\n",
       "      <td>1</td>\n",
       "    </tr>\n",
       "    <tr>\n",
       "      <th>3</th>\n",
       "      <td>@nationwideclass no, it's not behaving at all....</td>\n",
       "      <td>1</td>\n",
       "    </tr>\n",
       "    <tr>\n",
       "      <th>4</th>\n",
       "      <td>@Kwesidei not the whole crew</td>\n",
       "      <td>1</td>\n",
       "    </tr>\n",
       "  </tbody>\n",
       "</table>\n",
       "</div>"
      ],
      "text/plain": [
       "                                                text  label\n",
       "0  is upset that he can't update his Facebook by ...      1\n",
       "1  @Kenichan I dived many times for the ball. Man...      1\n",
       "2    my whole body feels itchy and like its on fire       1\n",
       "3  @nationwideclass no, it's not behaving at all....      1\n",
       "4                      @Kwesidei not the whole crew       1"
      ]
     },
     "execution_count": 20,
     "metadata": {},
     "output_type": "execute_result"
    }
   ],
   "source": [
    "datam.head()"
   ]
  },
  {
   "cell_type": "code",
   "execution_count": 22,
   "metadata": {},
   "outputs": [],
   "source": [
    "datam = datam.sample(frac=1)"
   ]
  },
  {
   "cell_type": "code",
   "execution_count": 24,
   "metadata": {},
   "outputs": [
    {
     "name": "stdout",
     "output_type": "stream",
     "text": [
      "                                                      text  label\n",
      "868865   Randomly inspired for a new graphic design the...      0\n",
      "1102689  @fanf Thanks for the link to that excellent po...      0\n",
      "1180662  @Ypsychs Their name is @BrokeCity and they're ...      0\n",
      "295407   @summer_eyes I bought a pair while Andrew and ...      1\n",
      "1210850                 @pboffer88 Thanks for the follow!       0\n"
     ]
    }
   ],
   "source": [
    "print(datam.head())"
   ]
  },
  {
   "cell_type": "code",
   "execution_count": 26,
   "metadata": {},
   "outputs": [
    {
     "ename": "OSError",
     "evalue": "Cannot save file into a non-existent directory: '\\processedData'",
     "output_type": "error",
     "traceback": [
      "\u001b[1;31m---------------------------------------------------------------------------\u001b[0m",
      "\u001b[1;31mOSError\u001b[0m                                   Traceback (most recent call last)",
      "\u001b[1;32me:\\Study Material\\CDAC\\Project\\Stress Detection Program\\From_Scratch.ipynb Cell 22'\u001b[0m in \u001b[0;36m<cell line: 2>\u001b[1;34m()\u001b[0m\n\u001b[0;32m      <a href='vscode-notebook-cell:/e%3A/Study%20Material/CDAC/Project/Stress%20Detection%20Program/From_Scratch.ipynb#ch0000021?line=0'>1</a>\u001b[0m \u001b[39m# Exporting it \u001b[39;00m\n\u001b[1;32m----> <a href='vscode-notebook-cell:/e%3A/Study%20Material/CDAC/Project/Stress%20Detection%20Program/From_Scratch.ipynb#ch0000021?line=1'>2</a>\u001b[0m datam\u001b[39m.\u001b[39;49mto_csv(\u001b[39m'\u001b[39;49m\u001b[39m/processedData/16mFullProcessed.csv\u001b[39;49m\u001b[39m'\u001b[39;49m)\n",
      "File \u001b[1;32mc:\\Users\\Sourabh\\AppData\\Local\\Programs\\Python\\Python39\\lib\\site-packages\\pandas\\core\\generic.py:3551\u001b[0m, in \u001b[0;36mNDFrame.to_csv\u001b[1;34m(self, path_or_buf, sep, na_rep, float_format, columns, header, index, index_label, mode, encoding, compression, quoting, quotechar, line_terminator, chunksize, date_format, doublequote, escapechar, decimal, errors, storage_options)\u001b[0m\n\u001b[0;32m   <a href='file:///c%3A/Users/Sourabh/AppData/Local/Programs/Python/Python39/lib/site-packages/pandas/core/generic.py?line=3539'>3540</a>\u001b[0m df \u001b[39m=\u001b[39m \u001b[39mself\u001b[39m \u001b[39mif\u001b[39;00m \u001b[39misinstance\u001b[39m(\u001b[39mself\u001b[39m, ABCDataFrame) \u001b[39melse\u001b[39;00m \u001b[39mself\u001b[39m\u001b[39m.\u001b[39mto_frame()\n\u001b[0;32m   <a href='file:///c%3A/Users/Sourabh/AppData/Local/Programs/Python/Python39/lib/site-packages/pandas/core/generic.py?line=3541'>3542</a>\u001b[0m formatter \u001b[39m=\u001b[39m DataFrameFormatter(\n\u001b[0;32m   <a href='file:///c%3A/Users/Sourabh/AppData/Local/Programs/Python/Python39/lib/site-packages/pandas/core/generic.py?line=3542'>3543</a>\u001b[0m     frame\u001b[39m=\u001b[39mdf,\n\u001b[0;32m   <a href='file:///c%3A/Users/Sourabh/AppData/Local/Programs/Python/Python39/lib/site-packages/pandas/core/generic.py?line=3543'>3544</a>\u001b[0m     header\u001b[39m=\u001b[39mheader,\n\u001b[1;32m   (...)\u001b[0m\n\u001b[0;32m   <a href='file:///c%3A/Users/Sourabh/AppData/Local/Programs/Python/Python39/lib/site-packages/pandas/core/generic.py?line=3547'>3548</a>\u001b[0m     decimal\u001b[39m=\u001b[39mdecimal,\n\u001b[0;32m   <a href='file:///c%3A/Users/Sourabh/AppData/Local/Programs/Python/Python39/lib/site-packages/pandas/core/generic.py?line=3548'>3549</a>\u001b[0m )\n\u001b[1;32m-> <a href='file:///c%3A/Users/Sourabh/AppData/Local/Programs/Python/Python39/lib/site-packages/pandas/core/generic.py?line=3550'>3551</a>\u001b[0m \u001b[39mreturn\u001b[39;00m DataFrameRenderer(formatter)\u001b[39m.\u001b[39;49mto_csv(\n\u001b[0;32m   <a href='file:///c%3A/Users/Sourabh/AppData/Local/Programs/Python/Python39/lib/site-packages/pandas/core/generic.py?line=3551'>3552</a>\u001b[0m     path_or_buf,\n\u001b[0;32m   <a href='file:///c%3A/Users/Sourabh/AppData/Local/Programs/Python/Python39/lib/site-packages/pandas/core/generic.py?line=3552'>3553</a>\u001b[0m     line_terminator\u001b[39m=\u001b[39;49mline_terminator,\n\u001b[0;32m   <a href='file:///c%3A/Users/Sourabh/AppData/Local/Programs/Python/Python39/lib/site-packages/pandas/core/generic.py?line=3553'>3554</a>\u001b[0m     sep\u001b[39m=\u001b[39;49msep,\n\u001b[0;32m   <a href='file:///c%3A/Users/Sourabh/AppData/Local/Programs/Python/Python39/lib/site-packages/pandas/core/generic.py?line=3554'>3555</a>\u001b[0m     encoding\u001b[39m=\u001b[39;49mencoding,\n\u001b[0;32m   <a href='file:///c%3A/Users/Sourabh/AppData/Local/Programs/Python/Python39/lib/site-packages/pandas/core/generic.py?line=3555'>3556</a>\u001b[0m     errors\u001b[39m=\u001b[39;49merrors,\n\u001b[0;32m   <a href='file:///c%3A/Users/Sourabh/AppData/Local/Programs/Python/Python39/lib/site-packages/pandas/core/generic.py?line=3556'>3557</a>\u001b[0m     compression\u001b[39m=\u001b[39;49mcompression,\n\u001b[0;32m   <a href='file:///c%3A/Users/Sourabh/AppData/Local/Programs/Python/Python39/lib/site-packages/pandas/core/generic.py?line=3557'>3558</a>\u001b[0m     quoting\u001b[39m=\u001b[39;49mquoting,\n\u001b[0;32m   <a href='file:///c%3A/Users/Sourabh/AppData/Local/Programs/Python/Python39/lib/site-packages/pandas/core/generic.py?line=3558'>3559</a>\u001b[0m     columns\u001b[39m=\u001b[39;49mcolumns,\n\u001b[0;32m   <a href='file:///c%3A/Users/Sourabh/AppData/Local/Programs/Python/Python39/lib/site-packages/pandas/core/generic.py?line=3559'>3560</a>\u001b[0m     index_label\u001b[39m=\u001b[39;49mindex_label,\n\u001b[0;32m   <a href='file:///c%3A/Users/Sourabh/AppData/Local/Programs/Python/Python39/lib/site-packages/pandas/core/generic.py?line=3560'>3561</a>\u001b[0m     mode\u001b[39m=\u001b[39;49mmode,\n\u001b[0;32m   <a href='file:///c%3A/Users/Sourabh/AppData/Local/Programs/Python/Python39/lib/site-packages/pandas/core/generic.py?line=3561'>3562</a>\u001b[0m     chunksize\u001b[39m=\u001b[39;49mchunksize,\n\u001b[0;32m   <a href='file:///c%3A/Users/Sourabh/AppData/Local/Programs/Python/Python39/lib/site-packages/pandas/core/generic.py?line=3562'>3563</a>\u001b[0m     quotechar\u001b[39m=\u001b[39;49mquotechar,\n\u001b[0;32m   <a href='file:///c%3A/Users/Sourabh/AppData/Local/Programs/Python/Python39/lib/site-packages/pandas/core/generic.py?line=3563'>3564</a>\u001b[0m     date_format\u001b[39m=\u001b[39;49mdate_format,\n\u001b[0;32m   <a href='file:///c%3A/Users/Sourabh/AppData/Local/Programs/Python/Python39/lib/site-packages/pandas/core/generic.py?line=3564'>3565</a>\u001b[0m     doublequote\u001b[39m=\u001b[39;49mdoublequote,\n\u001b[0;32m   <a href='file:///c%3A/Users/Sourabh/AppData/Local/Programs/Python/Python39/lib/site-packages/pandas/core/generic.py?line=3565'>3566</a>\u001b[0m     escapechar\u001b[39m=\u001b[39;49mescapechar,\n\u001b[0;32m   <a href='file:///c%3A/Users/Sourabh/AppData/Local/Programs/Python/Python39/lib/site-packages/pandas/core/generic.py?line=3566'>3567</a>\u001b[0m     storage_options\u001b[39m=\u001b[39;49mstorage_options,\n\u001b[0;32m   <a href='file:///c%3A/Users/Sourabh/AppData/Local/Programs/Python/Python39/lib/site-packages/pandas/core/generic.py?line=3567'>3568</a>\u001b[0m )\n",
      "File \u001b[1;32mc:\\Users\\Sourabh\\AppData\\Local\\Programs\\Python\\Python39\\lib\\site-packages\\pandas\\io\\formats\\format.py:1180\u001b[0m, in \u001b[0;36mDataFrameRenderer.to_csv\u001b[1;34m(self, path_or_buf, encoding, sep, columns, index_label, mode, compression, quoting, quotechar, line_terminator, chunksize, date_format, doublequote, escapechar, errors, storage_options)\u001b[0m\n\u001b[0;32m   <a href='file:///c%3A/Users/Sourabh/AppData/Local/Programs/Python/Python39/lib/site-packages/pandas/io/formats/format.py?line=1158'>1159</a>\u001b[0m     created_buffer \u001b[39m=\u001b[39m \u001b[39mFalse\u001b[39;00m\n\u001b[0;32m   <a href='file:///c%3A/Users/Sourabh/AppData/Local/Programs/Python/Python39/lib/site-packages/pandas/io/formats/format.py?line=1160'>1161</a>\u001b[0m csv_formatter \u001b[39m=\u001b[39m CSVFormatter(\n\u001b[0;32m   <a href='file:///c%3A/Users/Sourabh/AppData/Local/Programs/Python/Python39/lib/site-packages/pandas/io/formats/format.py?line=1161'>1162</a>\u001b[0m     path_or_buf\u001b[39m=\u001b[39mpath_or_buf,\n\u001b[0;32m   <a href='file:///c%3A/Users/Sourabh/AppData/Local/Programs/Python/Python39/lib/site-packages/pandas/io/formats/format.py?line=1162'>1163</a>\u001b[0m     line_terminator\u001b[39m=\u001b[39mline_terminator,\n\u001b[1;32m   (...)\u001b[0m\n\u001b[0;32m   <a href='file:///c%3A/Users/Sourabh/AppData/Local/Programs/Python/Python39/lib/site-packages/pandas/io/formats/format.py?line=1177'>1178</a>\u001b[0m     formatter\u001b[39m=\u001b[39m\u001b[39mself\u001b[39m\u001b[39m.\u001b[39mfmt,\n\u001b[0;32m   <a href='file:///c%3A/Users/Sourabh/AppData/Local/Programs/Python/Python39/lib/site-packages/pandas/io/formats/format.py?line=1178'>1179</a>\u001b[0m )\n\u001b[1;32m-> <a href='file:///c%3A/Users/Sourabh/AppData/Local/Programs/Python/Python39/lib/site-packages/pandas/io/formats/format.py?line=1179'>1180</a>\u001b[0m csv_formatter\u001b[39m.\u001b[39;49msave()\n\u001b[0;32m   <a href='file:///c%3A/Users/Sourabh/AppData/Local/Programs/Python/Python39/lib/site-packages/pandas/io/formats/format.py?line=1181'>1182</a>\u001b[0m \u001b[39mif\u001b[39;00m created_buffer:\n\u001b[0;32m   <a href='file:///c%3A/Users/Sourabh/AppData/Local/Programs/Python/Python39/lib/site-packages/pandas/io/formats/format.py?line=1182'>1183</a>\u001b[0m     \u001b[39massert\u001b[39;00m \u001b[39misinstance\u001b[39m(path_or_buf, StringIO)\n",
      "File \u001b[1;32mc:\\Users\\Sourabh\\AppData\\Local\\Programs\\Python\\Python39\\lib\\site-packages\\pandas\\io\\formats\\csvs.py:241\u001b[0m, in \u001b[0;36mCSVFormatter.save\u001b[1;34m(self)\u001b[0m\n\u001b[0;32m    <a href='file:///c%3A/Users/Sourabh/AppData/Local/Programs/Python/Python39/lib/site-packages/pandas/io/formats/csvs.py?line=236'>237</a>\u001b[0m \u001b[39m\"\"\"\u001b[39;00m\n\u001b[0;32m    <a href='file:///c%3A/Users/Sourabh/AppData/Local/Programs/Python/Python39/lib/site-packages/pandas/io/formats/csvs.py?line=237'>238</a>\u001b[0m \u001b[39mCreate the writer & save.\u001b[39;00m\n\u001b[0;32m    <a href='file:///c%3A/Users/Sourabh/AppData/Local/Programs/Python/Python39/lib/site-packages/pandas/io/formats/csvs.py?line=238'>239</a>\u001b[0m \u001b[39m\"\"\"\u001b[39;00m\n\u001b[0;32m    <a href='file:///c%3A/Users/Sourabh/AppData/Local/Programs/Python/Python39/lib/site-packages/pandas/io/formats/csvs.py?line=239'>240</a>\u001b[0m \u001b[39m# apply compression and byte/text conversion\u001b[39;00m\n\u001b[1;32m--> <a href='file:///c%3A/Users/Sourabh/AppData/Local/Programs/Python/Python39/lib/site-packages/pandas/io/formats/csvs.py?line=240'>241</a>\u001b[0m \u001b[39mwith\u001b[39;00m get_handle(\n\u001b[0;32m    <a href='file:///c%3A/Users/Sourabh/AppData/Local/Programs/Python/Python39/lib/site-packages/pandas/io/formats/csvs.py?line=241'>242</a>\u001b[0m     \u001b[39mself\u001b[39;49m\u001b[39m.\u001b[39;49mfilepath_or_buffer,\n\u001b[0;32m    <a href='file:///c%3A/Users/Sourabh/AppData/Local/Programs/Python/Python39/lib/site-packages/pandas/io/formats/csvs.py?line=242'>243</a>\u001b[0m     \u001b[39mself\u001b[39;49m\u001b[39m.\u001b[39;49mmode,\n\u001b[0;32m    <a href='file:///c%3A/Users/Sourabh/AppData/Local/Programs/Python/Python39/lib/site-packages/pandas/io/formats/csvs.py?line=243'>244</a>\u001b[0m     encoding\u001b[39m=\u001b[39;49m\u001b[39mself\u001b[39;49m\u001b[39m.\u001b[39;49mencoding,\n\u001b[0;32m    <a href='file:///c%3A/Users/Sourabh/AppData/Local/Programs/Python/Python39/lib/site-packages/pandas/io/formats/csvs.py?line=244'>245</a>\u001b[0m     errors\u001b[39m=\u001b[39;49m\u001b[39mself\u001b[39;49m\u001b[39m.\u001b[39;49merrors,\n\u001b[0;32m    <a href='file:///c%3A/Users/Sourabh/AppData/Local/Programs/Python/Python39/lib/site-packages/pandas/io/formats/csvs.py?line=245'>246</a>\u001b[0m     compression\u001b[39m=\u001b[39;49m\u001b[39mself\u001b[39;49m\u001b[39m.\u001b[39;49mcompression,\n\u001b[0;32m    <a href='file:///c%3A/Users/Sourabh/AppData/Local/Programs/Python/Python39/lib/site-packages/pandas/io/formats/csvs.py?line=246'>247</a>\u001b[0m     storage_options\u001b[39m=\u001b[39;49m\u001b[39mself\u001b[39;49m\u001b[39m.\u001b[39;49mstorage_options,\n\u001b[0;32m    <a href='file:///c%3A/Users/Sourabh/AppData/Local/Programs/Python/Python39/lib/site-packages/pandas/io/formats/csvs.py?line=247'>248</a>\u001b[0m ) \u001b[39mas\u001b[39;00m handles:\n\u001b[0;32m    <a href='file:///c%3A/Users/Sourabh/AppData/Local/Programs/Python/Python39/lib/site-packages/pandas/io/formats/csvs.py?line=248'>249</a>\u001b[0m \n\u001b[0;32m    <a href='file:///c%3A/Users/Sourabh/AppData/Local/Programs/Python/Python39/lib/site-packages/pandas/io/formats/csvs.py?line=249'>250</a>\u001b[0m     \u001b[39m# Note: self.encoding is irrelevant here\u001b[39;00m\n\u001b[0;32m    <a href='file:///c%3A/Users/Sourabh/AppData/Local/Programs/Python/Python39/lib/site-packages/pandas/io/formats/csvs.py?line=250'>251</a>\u001b[0m     \u001b[39mself\u001b[39m\u001b[39m.\u001b[39mwriter \u001b[39m=\u001b[39m csvlib\u001b[39m.\u001b[39mwriter(\n\u001b[0;32m    <a href='file:///c%3A/Users/Sourabh/AppData/Local/Programs/Python/Python39/lib/site-packages/pandas/io/formats/csvs.py?line=251'>252</a>\u001b[0m         handles\u001b[39m.\u001b[39mhandle,\n\u001b[0;32m    <a href='file:///c%3A/Users/Sourabh/AppData/Local/Programs/Python/Python39/lib/site-packages/pandas/io/formats/csvs.py?line=252'>253</a>\u001b[0m         lineterminator\u001b[39m=\u001b[39m\u001b[39mself\u001b[39m\u001b[39m.\u001b[39mline_terminator,\n\u001b[1;32m   (...)\u001b[0m\n\u001b[0;32m    <a href='file:///c%3A/Users/Sourabh/AppData/Local/Programs/Python/Python39/lib/site-packages/pandas/io/formats/csvs.py?line=257'>258</a>\u001b[0m         quotechar\u001b[39m=\u001b[39m\u001b[39mself\u001b[39m\u001b[39m.\u001b[39mquotechar,\n\u001b[0;32m    <a href='file:///c%3A/Users/Sourabh/AppData/Local/Programs/Python/Python39/lib/site-packages/pandas/io/formats/csvs.py?line=258'>259</a>\u001b[0m     )\n\u001b[0;32m    <a href='file:///c%3A/Users/Sourabh/AppData/Local/Programs/Python/Python39/lib/site-packages/pandas/io/formats/csvs.py?line=260'>261</a>\u001b[0m     \u001b[39mself\u001b[39m\u001b[39m.\u001b[39m_save()\n",
      "File \u001b[1;32mc:\\Users\\Sourabh\\AppData\\Local\\Programs\\Python\\Python39\\lib\\site-packages\\pandas\\io\\common.py:697\u001b[0m, in \u001b[0;36mget_handle\u001b[1;34m(path_or_buf, mode, encoding, compression, memory_map, is_text, errors, storage_options)\u001b[0m\n\u001b[0;32m    <a href='file:///c%3A/Users/Sourabh/AppData/Local/Programs/Python/Python39/lib/site-packages/pandas/io/common.py?line=694'>695</a>\u001b[0m \u001b[39m# Only for write methods\u001b[39;00m\n\u001b[0;32m    <a href='file:///c%3A/Users/Sourabh/AppData/Local/Programs/Python/Python39/lib/site-packages/pandas/io/common.py?line=695'>696</a>\u001b[0m \u001b[39mif\u001b[39;00m \u001b[39m\"\u001b[39m\u001b[39mr\u001b[39m\u001b[39m\"\u001b[39m \u001b[39mnot\u001b[39;00m \u001b[39min\u001b[39;00m mode \u001b[39mand\u001b[39;00m is_path:\n\u001b[1;32m--> <a href='file:///c%3A/Users/Sourabh/AppData/Local/Programs/Python/Python39/lib/site-packages/pandas/io/common.py?line=696'>697</a>\u001b[0m     check_parent_directory(\u001b[39mstr\u001b[39;49m(handle))\n\u001b[0;32m    <a href='file:///c%3A/Users/Sourabh/AppData/Local/Programs/Python/Python39/lib/site-packages/pandas/io/common.py?line=698'>699</a>\u001b[0m \u001b[39mif\u001b[39;00m compression:\n\u001b[0;32m    <a href='file:///c%3A/Users/Sourabh/AppData/Local/Programs/Python/Python39/lib/site-packages/pandas/io/common.py?line=699'>700</a>\u001b[0m     \u001b[39mif\u001b[39;00m compression \u001b[39m!=\u001b[39m \u001b[39m\"\u001b[39m\u001b[39mzstd\u001b[39m\u001b[39m\"\u001b[39m:\n\u001b[0;32m    <a href='file:///c%3A/Users/Sourabh/AppData/Local/Programs/Python/Python39/lib/site-packages/pandas/io/common.py?line=700'>701</a>\u001b[0m         \u001b[39m# compression libraries do not like an explicit text-mode\u001b[39;00m\n",
      "File \u001b[1;32mc:\\Users\\Sourabh\\AppData\\Local\\Programs\\Python\\Python39\\lib\\site-packages\\pandas\\io\\common.py:571\u001b[0m, in \u001b[0;36mcheck_parent_directory\u001b[1;34m(path)\u001b[0m\n\u001b[0;32m    <a href='file:///c%3A/Users/Sourabh/AppData/Local/Programs/Python/Python39/lib/site-packages/pandas/io/common.py?line=568'>569</a>\u001b[0m parent \u001b[39m=\u001b[39m Path(path)\u001b[39m.\u001b[39mparent\n\u001b[0;32m    <a href='file:///c%3A/Users/Sourabh/AppData/Local/Programs/Python/Python39/lib/site-packages/pandas/io/common.py?line=569'>570</a>\u001b[0m \u001b[39mif\u001b[39;00m \u001b[39mnot\u001b[39;00m parent\u001b[39m.\u001b[39mis_dir():\n\u001b[1;32m--> <a href='file:///c%3A/Users/Sourabh/AppData/Local/Programs/Python/Python39/lib/site-packages/pandas/io/common.py?line=570'>571</a>\u001b[0m     \u001b[39mraise\u001b[39;00m \u001b[39mOSError\u001b[39;00m(\u001b[39mrf\u001b[39m\u001b[39m\"\u001b[39m\u001b[39mCannot save file into a non-existent directory: \u001b[39m\u001b[39m'\u001b[39m\u001b[39m{\u001b[39;00mparent\u001b[39m}\u001b[39;00m\u001b[39m'\u001b[39m\u001b[39m\"\u001b[39m)\n",
      "\u001b[1;31mOSError\u001b[0m: Cannot save file into a non-existent directory: '\\processedData'"
     ]
    }
   ],
   "source": [
    "# Exporting it \n",
    "datam.to_csv('/Processed Data/16mFullProcessed.csv')\n"
   ]
  },
  {
   "cell_type": "code",
   "execution_count": null,
   "metadata": {},
   "outputs": [],
   "source": []
  }
 ],
 "metadata": {
  "interpreter": {
   "hash": "7833405a848010c8f5ee627294eef4b1a3d1d25a1c66c8468dbe8daa99af938d"
  },
  "kernelspec": {
   "display_name": "Python 3.9.13 64-bit",
   "language": "python",
   "name": "python3"
  },
  "language_info": {
   "codemirror_mode": {
    "name": "ipython",
    "version": 3
   },
   "file_extension": ".py",
   "mimetype": "text/x-python",
   "name": "python",
   "nbconvert_exporter": "python",
   "pygments_lexer": "ipython3",
   "version": "3.9.13"
  },
  "orig_nbformat": 4
 },
 "nbformat": 4,
 "nbformat_minor": 2
}
