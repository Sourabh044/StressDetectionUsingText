{
 "cells": [
  {
   "cell_type": "code",
   "execution_count": 1,
   "metadata": {},
   "outputs": [],
   "source": [
    "import numpy as np\n",
    "import pandas as pd"
   ]
  },
  {
   "cell_type": "code",
   "execution_count": 4,
   "metadata": {},
   "outputs": [],
   "source": [
    "ndf = pd.read_csv('./Unprocessed Data/processedNegative.csv')\n",
    "ndf = ndf.T"
   ]
  },
  {
   "cell_type": "code",
   "execution_count": 5,
   "metadata": {},
   "outputs": [
    {
     "data": {
      "text/html": [
       "<div>\n",
       "<style scoped>\n",
       "    .dataframe tbody tr th:only-of-type {\n",
       "        vertical-align: middle;\n",
       "    }\n",
       "\n",
       "    .dataframe tbody tr th {\n",
       "        vertical-align: top;\n",
       "    }\n",
       "\n",
       "    .dataframe thead th {\n",
       "        text-align: right;\n",
       "    }\n",
       "</style>\n",
       "<table border=\"1\" class=\"dataframe\">\n",
       "  <thead>\n",
       "    <tr style=\"text-align: right;\">\n",
       "      <th></th>\n",
       "    </tr>\n",
       "  </thead>\n",
       "  <tbody>\n",
       "    <tr>\n",
       "      <th>How unhappy  some dogs like it though</th>\n",
       "    </tr>\n",
       "    <tr>\n",
       "      <th>talking to my over driver about where I'm goinghe said he'd love to go to New York too but since Trump it's probably not</th>\n",
       "    </tr>\n",
       "    <tr>\n",
       "      <th>Does anybody know if the Rand's likely to fall against the dollar? I got some money  I need to change into R but it keeps getting stronger unhappy</th>\n",
       "    </tr>\n",
       "    <tr>\n",
       "      <th>I miss going to gigs in Liverpool unhappy</th>\n",
       "    </tr>\n",
       "    <tr>\n",
       "      <th>There isnt a new Riverdale tonight ? unhappy</th>\n",
       "    </tr>\n",
       "    <tr>\n",
       "      <th>...</th>\n",
       "    </tr>\n",
       "    <tr>\n",
       "      <th>wish knock out lang talaga for the new school year are good and cooperative groupmates please unhappy</th>\n",
       "    </tr>\n",
       "    <tr>\n",
       "      <th>i miss so much unhappy</th>\n",
       "    </tr>\n",
       "    <tr>\n",
       "      <th>Same unhappy .1</th>\n",
       "    </tr>\n",
       "    <tr>\n",
       "      <th>Hi instant message your friend  friend lang</th>\n",
       "    </tr>\n",
       "    <tr>\n",
       "      <th>hindi close friend? unhappy</th>\n",
       "    </tr>\n",
       "  </tbody>\n",
       "</table>\n",
       "<p>1117 rows × 0 columns</p>\n",
       "</div>"
      ],
      "text/plain": [
       "Empty DataFrame\n",
       "Columns: []\n",
       "Index: [How unhappy  some dogs like it though, talking to my over driver about where I'm goinghe said he'd love to go to New York too but since Trump it's probably not, Does anybody know if the Rand's likely to fall against the dollar? I got some money  I need to change into R but it keeps getting stronger unhappy , I miss going to gigs in Liverpool unhappy , There isnt a new Riverdale tonight ? unhappy , it's that A*dy guy from pop Asia and then the translator so they'll probs go with them around Aus unhappy , Who's that chair you're sitting in? Is this how I find out. Everyone knows now. You've shamed me in pu, don't like how jittery caffeine makes me sad , My area's not on the list unhappy  think I'll go LibDems anyway, I want fun plans this weekend unhappy , When can you notice me.  unhappy  what?  , Ahhhhh! You recognized LOGAN!!! Cinemax shows have a BAD track record for getting cancelled unhappy , Errr dude.... They're gone unhappy  Asked other league memeber to check  the guys are go , Not you again sad  , Why would Harvey be going to prison? unhappy , Missing in crying  Seaside area. , Becoz if we will depend on your promoting its waste of hardwork to all team who , I thought you'll save me crying , major waffle cravings right now sad , cant speak japanese ::(, how can people do stuff like this unhappy  , please just stop confining animals in zoos unhappy  , Feel like i shoyould be telling you to get the fuck out social media byout also feel really mean because unhappy  silence  love yoyou hope yoyoure okay , i miss you huhu so busy unhappy , it was extended family. 12 ppl.ahh wanted to show a Oh My Girl being dorky while playing a game but it got deleted unhappy , Don't do that unhappy , Jamie can you please reset the CGa grandfinal server... no administrator are responding unhappy , noOoooooo YOU GONNA MISS THE BUFFET unhappy  TAKE CARE AIN!!!!!!!!!!!!!!!!! , I wish i could vote for you unhappy , instant message so jealous okay unhappy  but never mind haha bruno can wait finals first, when i'm enlisting can please turn up like this unhappy  , unhappy  how come people like this have children where's the state intervention , Ouchhhhh unhappy  , Help... I want to stop tweeting. All I feel is endless suffering and pain. I tried to deactivate myself many times... Save me... unhappy , For those asking,  the application is Kana Kanji Funtime! Sadly,  it looks like iOS 11 is due to kill it unhappy  , Yeah did update to 16.04 ,  it froze a few times. Then went to 16.10,  froze mid install. Waited 3hrs he'd to pull plug crying , Shaandaar,  Zabardast,  Another ATBB on it's way ! I wish Srk Sir starts signing good movies unhappy  , I want Jabee crying , sociopath full raid gear sad  , When will you say hi sunshine ? unhappy  , i feel bad for doing that AHAHA unhappy , it's getting harder and harder to stay unhappy , His face looks bloated unhappy  baby get well soon , fuck. tried changing my settings but still in india. unhappy , talking to my over driver about where I'm goinghe said he'd love to go to New York too but since Trump it's probably not.1, Let's not forget that it's also Gabriel Tenma White's birthday today!I miss unhappy  , Why am i always taken for granted eversince unhappy , Ah alright,  i don%27t know if you saw my comment yet,  but what camera you shooting with,  does it have flip out scr , I miss Louis' tweets unhappy , Koalas are dying of thirst  and it's all because of us unhappy  , okay I'll shut up now. instant message just mad that lots of people will now have a VERY flawed opinion on mental health ( on mine) because of this show unhappy , pamura isa because in this very moment,  i want to explode like a grenade to the point where people will die with me. sad , YG should have sent them to MCD. I want to see them holding the trophy unhappy  anyways , i really want one of those iconic jimin stripes turtleneck shirt unhappy , I want a spoons but I cant go unhappy  honestly feels like a messy break up unhappy , Makes me so sad unhappy  they looked so unhappy when I went to SeaWorld , YG should have sent them to MCD. I want to see them holding the trophy unhappy  anyways .1, I miss Rockys posts unhappy  , Hey Tony,  oh no unhappy  Could you please tell me a little more about your issue? Im following if youd prefer to DM. Amanda, i love mason and miss mason unhappy , Cold as a mother crusher right now. Nearing the end of April. sad , we don%27t talk anymore like we used to do unhappy , YG should have sent them to MCD. I want to see them holding the trophy unhappy  anyways .2, miss biking unhappy , I miss Big brother unhappy , 6 days in camp haiss miss you a lot unhappy , It's raining so hard unhappy , Am bored and kandowiandg I have ando plaands for today is makiandg me eveand more bored unhappy , oh my god not laurie penny unhappy , can you say Hi Mekisha? unhappy , I should never draw again unhappy , Cleantha , Visual Studio Installation - 89% .. BSOD comes suddenly unhappy , i want to make waffles unhappy , So sad unhappy  , crying  muh feels, Look like somethings i will ignore xD Kart Racing when? unhappy , did ate jenna just blocked me or what? unhappy , My bed is so comfortable I don't want to get up unhappy , Is that store still in use? If so,  I sincerely hope not too many priceless antiques were destroyed. Reg , Astaga unhappy  /? , I want a puppy now unhappy , have to work unhappy  but i'll see you tomorrow!! , happy weed day without them is not the same anymore unhappy , my favourite lipstick hilang crying , Time just flies,  can't believe he will be year for next year unhappy  We're becoming old HAHAHAH :v, The new Twitter reply view has me confused... like do I capitalise my replies to people or not? unhappy , ...]\n",
       "\n",
       "[1117 rows x 0 columns]"
      ]
     },
     "execution_count": 5,
     "metadata": {},
     "output_type": "execute_result"
    }
   ],
   "source": [
    "ndf"
   ]
  },
  {
   "cell_type": "code",
   "execution_count": 6,
   "metadata": {},
   "outputs": [],
   "source": [
    "ndf['label'] = 1\n"
   ]
  },
  {
   "cell_type": "code",
   "execution_count": 7,
   "metadata": {},
   "outputs": [
    {
     "data": {
      "text/html": [
       "<div>\n",
       "<style scoped>\n",
       "    .dataframe tbody tr th:only-of-type {\n",
       "        vertical-align: middle;\n",
       "    }\n",
       "\n",
       "    .dataframe tbody tr th {\n",
       "        vertical-align: top;\n",
       "    }\n",
       "\n",
       "    .dataframe thead th {\n",
       "        text-align: right;\n",
       "    }\n",
       "</style>\n",
       "<table border=\"1\" class=\"dataframe\">\n",
       "  <thead>\n",
       "    <tr style=\"text-align: right;\">\n",
       "      <th></th>\n",
       "      <th>label</th>\n",
       "    </tr>\n",
       "  </thead>\n",
       "  <tbody>\n",
       "    <tr>\n",
       "      <th>How unhappy  some dogs like it though</th>\n",
       "      <td>1</td>\n",
       "    </tr>\n",
       "    <tr>\n",
       "      <th>talking to my over driver about where I'm goinghe said he'd love to go to New York too but since Trump it's probably not</th>\n",
       "      <td>1</td>\n",
       "    </tr>\n",
       "    <tr>\n",
       "      <th>Does anybody know if the Rand's likely to fall against the dollar? I got some money  I need to change into R but it keeps getting stronger unhappy</th>\n",
       "      <td>1</td>\n",
       "    </tr>\n",
       "    <tr>\n",
       "      <th>I miss going to gigs in Liverpool unhappy</th>\n",
       "      <td>1</td>\n",
       "    </tr>\n",
       "    <tr>\n",
       "      <th>There isnt a new Riverdale tonight ? unhappy</th>\n",
       "      <td>1</td>\n",
       "    </tr>\n",
       "  </tbody>\n",
       "</table>\n",
       "</div>"
      ],
      "text/plain": [
       "                                                    label\n",
       "How unhappy  some dogs like it though                   1\n",
       "talking to my over driver about where I'm going...      1\n",
       "Does anybody know if the Rand's likely to fall ...      1\n",
       "I miss going to gigs in Liverpool unhappy               1\n",
       "There isnt a new Riverdale tonight ? unhappy            1"
      ]
     },
     "execution_count": 7,
     "metadata": {},
     "output_type": "execute_result"
    }
   ],
   "source": [
    "ndf.head()"
   ]
  },
  {
   "cell_type": "code",
   "execution_count": 9,
   "metadata": {},
   "outputs": [],
   "source": [
    "pdf = pd.read_csv('./Unprocessed Data/processedPositive.csv')"
   ]
  },
  {
   "cell_type": "code",
   "execution_count": 10,
   "metadata": {},
   "outputs": [],
   "source": [
    "pdf = pdf.T"
   ]
  },
  {
   "cell_type": "code",
   "execution_count": 12,
   "metadata": {},
   "outputs": [
    {
     "data": {
      "text/html": [
       "<div>\n",
       "<style scoped>\n",
       "    .dataframe tbody tr th:only-of-type {\n",
       "        vertical-align: middle;\n",
       "    }\n",
       "\n",
       "    .dataframe tbody tr th {\n",
       "        vertical-align: top;\n",
       "    }\n",
       "\n",
       "    .dataframe thead th {\n",
       "        text-align: right;\n",
       "    }\n",
       "</style>\n",
       "<table border=\"1\" class=\"dataframe\">\n",
       "  <thead>\n",
       "    <tr style=\"text-align: right;\">\n",
       "      <th></th>\n",
       "    </tr>\n",
       "  </thead>\n",
       "  <tbody>\n",
       "    <tr>\n",
       "      <th>An inspiration in all aspects: Fashion</th>\n",
       "    </tr>\n",
       "    <tr>\n",
       "      <th>fitness</th>\n",
       "    </tr>\n",
       "    <tr>\n",
       "      <th>beauty and personality. :)KISSES TheFashionIcon</th>\n",
       "    </tr>\n",
       "    <tr>\n",
       "      <th>Apka Apna Awam Ka Channel Frankline Tv Aam Admi Production Please Visit Or Likes  Share :)Fb Page :...</th>\n",
       "    </tr>\n",
       "    <tr>\n",
       "      <th>Beautiful album from  the greatest unsung guitar genius of our time - and I've met the great backstage</th>\n",
       "    </tr>\n",
       "    <tr>\n",
       "      <th>...</th>\n",
       "    </tr>\n",
       "    <tr>\n",
       "      <th>Thanks for the recent follow Happy to connect happy  have a great Thursday. Get this.1</th>\n",
       "    </tr>\n",
       "    <tr>\n",
       "      <th>- top engaged members this week happy</th>\n",
       "    </tr>\n",
       "    <tr>\n",
       "      <th>ngam to  weeks left for cadet pilot exam crying with joy</th>\n",
       "    </tr>\n",
       "    <tr>\n",
       "      <th>Great! You're welcome Josh happy  ^Adam</th>\n",
       "    </tr>\n",
       "    <tr>\n",
       "      <th>Sixth spot not applicable Team! Higher pa! :)KISSES TheFashionIcon.4</th>\n",
       "    </tr>\n",
       "  </tbody>\n",
       "</table>\n",
       "<p>1186 rows × 0 columns</p>\n",
       "</div>"
      ],
      "text/plain": [
       "Empty DataFrame\n",
       "Columns: []\n",
       "Index: [An inspiration in all aspects: Fashion,  fitness,  beauty and personality. :)KISSES TheFashionIcon, Apka Apna Awam Ka Channel Frankline Tv Aam Admi Production Please Visit Or Likes  Share :)Fb Page :..., Beautiful album from  the greatest unsung guitar genius of our time - and I've met the great backstage, Good luck to Rich riding for great project in this Sunday. Can you donate?, Omg he... kissed... him crying with joy, happy anniv ming and papi!!!!! love love happy, thanks happy, C'mon Tweeps,  Join  vote for the singer! Do spread the word. :D, Thanks for the great review! smile, Yay another art raffle! Everything you need to know is in the picture :D, Hello I hope you visit Luxor its amazing city in Egypt pleas check, We got a Vive tracker in the office and our intern,  went to work.Don't get too excited,  this isn't, Take a look at favourites.io You can do this and more happy, Go back to school for music! I think I will in time happy, Sixth spot not applicable Team! Higher pa! :)KISSES TheFashionIcon, thanks for being top influencers in my community last week happy, Share the love: thanks for being top new followers this week happy  Want this?, retweet this tweet if you want your to be included in the nhc scrapbook!! i'll be making something out of all of the usern, Happy 420 happy  pass it to your followers!, Who wants some good vibes? Watch this on YouTube or TV100 application now for FREE happy, Great to work with you too such a lovely place! Thank you for havin, Nothing is ever as it seems. What looks bad today,  will be a blessing tomorrow happy  Keep your faith stirred up each day!, Mmmmmmmm love naughty wives smile, You deserve a vacation happy, Never known how hard it is until last to  days how to resist temptation to enter politics debates on social media happy  stood firm so far, Some summer salad inspiration for the BBQ smile, Hey thanks for being top new followers this week! Much appreciated happy  Want this ?, you should post this offer on this website happy, thanks for being top new followers - have a great week happy, I prefer it to sharm - enjoy it happy  Gouna 20km away is also quite nice - honestly anywhere away from crazy cairo is, Sixth spot not applicable Team! Higher pa! :)KISSES TheFashionIcon.1, Hey thanks for being top new followers this week! Much appreciated happy, thanks for the recent follow. Much appreciated happy, Thanks Lala.. Much needed happy, Thanks for connecting We are passionate about  - hope you like our tweets happy, hey,  keep smiling happy, Said it yesterday... happy, We love that our bloggers love us so much happy  Thank you for such an amazing review The Perfect Glasses h, only way to make sense of those crazy edge cases is the idea of sharing revenue was offensive,  rather, Gentle reminder on our TP guidelines happy  please read and spread. Thank you. happy KISSES TheFashionIcon, keep being you,  cheeky :D, smile  So true. For someone who was being recognised for her contribution to fashion,  she might have dressed a bit better., sounds like a lot of fun :D I like it, Oh,  Jin was spotted at Everland today. Nice to see them having a break after the US tour happy, There was nothing religious in it. is calling out sexism. I don't think I need to spell out my stand, Go back to school for music! I think I will in time happy.1, Theres only one thing I want to change about you . Your Last Name happy  ALDUBOnly, welcome brother  happy, Thanks for the recent follow Happy to connect happy  have a great Thursday., SONE who cant stream at Genie!You CAN stream for TY at Genie! We are still sharing some Genie IDs. If you want it,  DM us happy  S, Spending time with dogs or other animals is great at helping you to relax and de-stress. Great idea happy, My new video for happy  I hope you like ithappy, Got This interview poppin happy  $$$$$, Love your tweetability! We'd like to reach out to with an opportunity! Could you hit us with your email happy, Thanks for the recent follow Happy to connect happy  have a great Thursday..1, uss,  I'll DM you half naked pictures happy, Evet happy, Well,  I hope it doesn't last too long and you at least get to enjoy the weekend. And happy birthday again happy, Excited about event next week in Bangalore!  come happy, Want to win a pet chick happy  Simply follow  retweet for your chance to win! Winners will be selected Sunday 23rd. Go, Top retweeters this week,  Thank you happy, dope!! that's a cool word. finally down with the hip young millenial memers smile, 2nd Cousin Vlad !!!!! maybe thats a message from the Hockey G, Thanks for the recent follow Happy to connect happy  have a great Thursday. (Want this?, Earlier happy, Just win at weekend and it will be a late gift,  ok? :D, we finally got jinyoung to wipe it for jaebum himself but their precious son blocks it for the world to witness it, Here is question 18! Make sure to use in all your tweets  replies happy, And this credit also goes to Ik happy, My other accounts:them both or get rekt! :D, Hey thanks for being top new followers this week! Much appreciated happy.1, Les videre happy, clauditte, my friend is such an egg, congratulations David! Well done Mrs V! Welcome Jessica! happy, have you tried these new hacks?! **TRYING DUMB LIFE HACKS 17**, Keep tweeting team. Higher! Thank you for the efforts. :)KISSES TheFashionIcon, here are some very happy boys to brighten up your day happy, A huge thank you to all the within the Social Work  Care Sectors! Keep up the great work happy, Lunchtime with Flinthook! This game has so much personality :D, Ministers of PMLN are happy like those students who never studied for exams  luckily exams got delayed. They'll still ha, :D When mom is a bit tired, What we did after the climax shot happy, Miss Petite happy Thursday happy   looking forward to the weekend?, ...]\n",
       "\n",
       "[1186 rows x 0 columns]"
      ]
     },
     "execution_count": 12,
     "metadata": {},
     "output_type": "execute_result"
    }
   ],
   "source": [
    "pdf"
   ]
  },
  {
   "cell_type": "code",
   "execution_count": 13,
   "metadata": {},
   "outputs": [],
   "source": [
    "pdf['label'] = 0"
   ]
  },
  {
   "cell_type": "code",
   "execution_count": 64,
   "metadata": {},
   "outputs": [
    {
     "data": {
      "text/html": [
       "<div>\n",
       "<style scoped>\n",
       "    .dataframe tbody tr th:only-of-type {\n",
       "        vertical-align: middle;\n",
       "    }\n",
       "\n",
       "    .dataframe tbody tr th {\n",
       "        vertical-align: top;\n",
       "    }\n",
       "\n",
       "    .dataframe thead th {\n",
       "        text-align: right;\n",
       "    }\n",
       "</style>\n",
       "<table border=\"1\" class=\"dataframe\">\n",
       "  <thead>\n",
       "    <tr style=\"text-align: right;\">\n",
       "      <th></th>\n",
       "      <th>index</th>\n",
       "      <th>label</th>\n",
       "    </tr>\n",
       "  </thead>\n",
       "  <tbody>\n",
       "    <tr>\n",
       "      <th>0</th>\n",
       "      <td>An inspiration in all aspects: Fashion</td>\n",
       "      <td>0</td>\n",
       "    </tr>\n",
       "    <tr>\n",
       "      <th>1</th>\n",
       "      <td>fitness</td>\n",
       "      <td>0</td>\n",
       "    </tr>\n",
       "    <tr>\n",
       "      <th>2</th>\n",
       "      <td>beauty and personality. :)KISSES TheFashionIcon</td>\n",
       "      <td>0</td>\n",
       "    </tr>\n",
       "    <tr>\n",
       "      <th>3</th>\n",
       "      <td>Apka Apna Awam Ka Channel Frankline Tv Aam Adm...</td>\n",
       "      <td>0</td>\n",
       "    </tr>\n",
       "    <tr>\n",
       "      <th>4</th>\n",
       "      <td>Beautiful album from  the greatest unsung guit...</td>\n",
       "      <td>0</td>\n",
       "    </tr>\n",
       "  </tbody>\n",
       "</table>\n",
       "</div>"
      ],
      "text/plain": [
       "                                               index  label\n",
       "0             An inspiration in all aspects: Fashion      0\n",
       "1                                            fitness      0\n",
       "2    beauty and personality. :)KISSES TheFashionIcon      0\n",
       "3  Apka Apna Awam Ka Channel Frankline Tv Aam Adm...      0\n",
       "4  Beautiful album from  the greatest unsung guit...      0"
      ]
     },
     "execution_count": 64,
     "metadata": {},
     "output_type": "execute_result"
    }
   ],
   "source": [
    "pdf.head()"
   ]
  },
  {
   "cell_type": "code",
   "execution_count": 15,
   "metadata": {},
   "outputs": [
    {
     "name": "stderr",
     "output_type": "stream",
     "text": [
      "C:\\Users\\Sourabh\\AppData\\Local\\Temp\\ipykernel_1516\\2743873504.py:1: FutureWarning: The frame.append method is deprecated and will be removed from pandas in a future version. Use pandas.concat instead.\n",
      "  df = ndf.append(pdf)\n"
     ]
    }
   ],
   "source": [
    "df = ndf.append(pdf)"
   ]
  },
  {
   "cell_type": "code",
   "execution_count": 69,
   "metadata": {},
   "outputs": [
    {
     "ename": "ValueError",
     "evalue": "cannot insert level_0, already exists",
     "output_type": "error",
     "traceback": [
      "\u001b[1;31m---------------------------------------------------------------------------\u001b[0m",
      "\u001b[1;31mValueError\u001b[0m                                Traceback (most recent call last)",
      "\u001b[1;32me:\\Study Material\\CDAC\\Project\\Stress Detection Program\\From_Scratch.ipynb Cell 12'\u001b[0m in \u001b[0;36m<cell line: 1>\u001b[1;34m()\u001b[0m\n\u001b[1;32m----> <a href='vscode-notebook-cell:/e%3A/Study%20Material/CDAC/Project/Stress%20Detection%20Program/From_Scratch.ipynb#ch0000036?line=0'>1</a>\u001b[0m df\u001b[39m.\u001b[39;49mreset_index(inplace\u001b[39m=\u001b[39;49m\u001b[39mTrue\u001b[39;49;00m)\n",
      "File \u001b[1;32mc:\\Users\\Sourabh\\AppData\\Local\\Programs\\Python\\Python39\\lib\\site-packages\\pandas\\util\\_decorators.py:311\u001b[0m, in \u001b[0;36mdeprecate_nonkeyword_arguments.<locals>.decorate.<locals>.wrapper\u001b[1;34m(*args, **kwargs)\u001b[0m\n\u001b[0;32m    305\u001b[0m \u001b[39mif\u001b[39;00m \u001b[39mlen\u001b[39m(args) \u001b[39m>\u001b[39m num_allow_args:\n\u001b[0;32m    306\u001b[0m     warnings\u001b[39m.\u001b[39mwarn(\n\u001b[0;32m    307\u001b[0m         msg\u001b[39m.\u001b[39mformat(arguments\u001b[39m=\u001b[39marguments),\n\u001b[0;32m    308\u001b[0m         \u001b[39mFutureWarning\u001b[39;00m,\n\u001b[0;32m    309\u001b[0m         stacklevel\u001b[39m=\u001b[39mstacklevel,\n\u001b[0;32m    310\u001b[0m     )\n\u001b[1;32m--> 311\u001b[0m \u001b[39mreturn\u001b[39;00m func(\u001b[39m*\u001b[39margs, \u001b[39m*\u001b[39m\u001b[39m*\u001b[39mkwargs)\n",
      "File \u001b[1;32mc:\\Users\\Sourabh\\AppData\\Local\\Programs\\Python\\Python39\\lib\\site-packages\\pandas\\core\\frame.py:5839\u001b[0m, in \u001b[0;36mDataFrame.reset_index\u001b[1;34m(self, level, drop, inplace, col_level, col_fill)\u001b[0m\n\u001b[0;32m   5833\u001b[0m         \u001b[39mif\u001b[39;00m lab \u001b[39mis\u001b[39;00m \u001b[39mnot\u001b[39;00m \u001b[39mNone\u001b[39;00m:\n\u001b[0;32m   5834\u001b[0m             \u001b[39m# if we have the codes, extract the values with a mask\u001b[39;00m\n\u001b[0;32m   5835\u001b[0m             level_values \u001b[39m=\u001b[39m algorithms\u001b[39m.\u001b[39mtake(\n\u001b[0;32m   5836\u001b[0m                 level_values, lab, allow_fill\u001b[39m=\u001b[39m\u001b[39mTrue\u001b[39;00m, fill_value\u001b[39m=\u001b[39mlev\u001b[39m.\u001b[39m_na_value\n\u001b[0;32m   5837\u001b[0m             )\n\u001b[1;32m-> 5839\u001b[0m         new_obj\u001b[39m.\u001b[39;49minsert(\u001b[39m0\u001b[39;49m, name, level_values)\n\u001b[0;32m   5841\u001b[0m new_obj\u001b[39m.\u001b[39mindex \u001b[39m=\u001b[39m new_index\n\u001b[0;32m   5842\u001b[0m \u001b[39mif\u001b[39;00m \u001b[39mnot\u001b[39;00m inplace:\n",
      "File \u001b[1;32mc:\\Users\\Sourabh\\AppData\\Local\\Programs\\Python\\Python39\\lib\\site-packages\\pandas\\core\\frame.py:4440\u001b[0m, in \u001b[0;36mDataFrame.insert\u001b[1;34m(self, loc, column, value, allow_duplicates)\u001b[0m\n\u001b[0;32m   4434\u001b[0m     \u001b[39mraise\u001b[39;00m \u001b[39mValueError\u001b[39;00m(\n\u001b[0;32m   4435\u001b[0m         \u001b[39m\"\u001b[39m\u001b[39mCannot specify \u001b[39m\u001b[39m'\u001b[39m\u001b[39mallow_duplicates=True\u001b[39m\u001b[39m'\u001b[39m\u001b[39m when \u001b[39m\u001b[39m\"\u001b[39m\n\u001b[0;32m   4436\u001b[0m         \u001b[39m\"\u001b[39m\u001b[39m'\u001b[39m\u001b[39mself.flags.allows_duplicate_labels\u001b[39m\u001b[39m'\u001b[39m\u001b[39m is False.\u001b[39m\u001b[39m\"\u001b[39m\n\u001b[0;32m   4437\u001b[0m     )\n\u001b[0;32m   4438\u001b[0m \u001b[39mif\u001b[39;00m \u001b[39mnot\u001b[39;00m allow_duplicates \u001b[39mand\u001b[39;00m column \u001b[39min\u001b[39;00m \u001b[39mself\u001b[39m\u001b[39m.\u001b[39mcolumns:\n\u001b[0;32m   4439\u001b[0m     \u001b[39m# Should this be a different kind of error??\u001b[39;00m\n\u001b[1;32m-> 4440\u001b[0m     \u001b[39mraise\u001b[39;00m \u001b[39mValueError\u001b[39;00m(\u001b[39mf\u001b[39m\u001b[39m\"\u001b[39m\u001b[39mcannot insert \u001b[39m\u001b[39m{\u001b[39;00mcolumn\u001b[39m}\u001b[39;00m\u001b[39m, already exists\u001b[39m\u001b[39m\"\u001b[39m)\n\u001b[0;32m   4441\u001b[0m \u001b[39mif\u001b[39;00m \u001b[39mnot\u001b[39;00m \u001b[39misinstance\u001b[39m(loc, \u001b[39mint\u001b[39m):\n\u001b[0;32m   4442\u001b[0m     \u001b[39mraise\u001b[39;00m \u001b[39mTypeError\u001b[39;00m(\u001b[39m\"\u001b[39m\u001b[39mloc must be int\u001b[39m\u001b[39m\"\u001b[39m)\n",
      "\u001b[1;31mValueError\u001b[0m: cannot insert level_0, already exists"
     ]
    }
   ],
   "source": [
    "df.reset_index(inplace=True)\n",
    "# df.columns = ['text','label']\n"
   ]
  },
  {
   "cell_type": "code",
   "execution_count": 71,
   "metadata": {},
   "outputs": [],
   "source": [
    "df.head()\n",
    "df.columns=['useless','text','label']"
   ]
  },
  {
   "cell_type": "code",
   "execution_count": 76,
   "metadata": {},
   "outputs": [],
   "source": [
    "df.head()\n",
    "df.drop('useless',axis=1,inplace = True)"
   ]
  },
  {
   "cell_type": "code",
   "execution_count": 77,
   "metadata": {},
   "outputs": [],
   "source": [
    "# Shuffling the dataset\n",
    "df = df.sample(frac=1)"
   ]
  },
  {
   "cell_type": "code",
   "execution_count": 78,
   "metadata": {},
   "outputs": [
    {
     "data": {
      "text/html": [
       "<div>\n",
       "<style scoped>\n",
       "    .dataframe tbody tr th:only-of-type {\n",
       "        vertical-align: middle;\n",
       "    }\n",
       "\n",
       "    .dataframe tbody tr th {\n",
       "        vertical-align: top;\n",
       "    }\n",
       "\n",
       "    .dataframe thead th {\n",
       "        text-align: right;\n",
       "    }\n",
       "</style>\n",
       "<table border=\"1\" class=\"dataframe\">\n",
       "  <thead>\n",
       "    <tr style=\"text-align: right;\">\n",
       "      <th></th>\n",
       "      <th>text</th>\n",
       "      <th>label</th>\n",
       "    </tr>\n",
       "  </thead>\n",
       "  <tbody>\n",
       "    <tr>\n",
       "      <th>107</th>\n",
       "      <td>Seems you like my black lingerie picture then ...</td>\n",
       "      <td>0</td>\n",
       "    </tr>\n",
       "    <tr>\n",
       "      <th>162</th>\n",
       "      <td>huh? happy</td>\n",
       "      <td>0</td>\n",
       "    </tr>\n",
       "    <tr>\n",
       "      <th>1034</th>\n",
       "      <td>give me a chance in west server unhappy</td>\n",
       "      <td>1</td>\n",
       "    </tr>\n",
       "    <tr>\n",
       "      <th>454</th>\n",
       "      <td>Not surprised that I have the least amount of ...</td>\n",
       "      <td>1</td>\n",
       "    </tr>\n",
       "    <tr>\n",
       "      <th>802</th>\n",
       "      <td>he can't leave us unhappy</td>\n",
       "      <td>1</td>\n",
       "    </tr>\n",
       "  </tbody>\n",
       "</table>\n",
       "</div>"
      ],
      "text/plain": [
       "                                                   text  label\n",
       "107   Seems you like my black lingerie picture then ...      0\n",
       "162                                          huh? happy      0\n",
       "1034           give me a chance in west server unhappy       1\n",
       "454   Not surprised that I have the least amount of ...      1\n",
       "802                          he can't leave us unhappy       1"
      ]
     },
     "execution_count": 78,
     "metadata": {},
     "output_type": "execute_result"
    }
   ],
   "source": [
    "df.head()"
   ]
  },
  {
   "cell_type": "code",
   "execution_count": 18,
   "metadata": {},
   "outputs": [],
   "source": [
    "df.to_csv('preprocessedNP.csv')"
   ]
  },
  {
   "cell_type": "code",
   "execution_count": 22,
   "metadata": {},
   "outputs": [],
   "source": [
    "# Adding data from the Stress.csv"
   ]
  },
  {
   "cell_type": "code",
   "execution_count": 79,
   "metadata": {},
   "outputs": [],
   "source": [
    "stressdf = pd.read_csv('./Unprocessed Data/stress.csv')"
   ]
  },
  {
   "cell_type": "code",
   "execution_count": 80,
   "metadata": {},
   "outputs": [],
   "source": [
    "data = stressdf[['text','label']]"
   ]
  },
  {
   "cell_type": "code",
   "execution_count": 81,
   "metadata": {},
   "outputs": [
    {
     "data": {
      "text/html": [
       "<div>\n",
       "<style scoped>\n",
       "    .dataframe tbody tr th:only-of-type {\n",
       "        vertical-align: middle;\n",
       "    }\n",
       "\n",
       "    .dataframe tbody tr th {\n",
       "        vertical-align: top;\n",
       "    }\n",
       "\n",
       "    .dataframe thead th {\n",
       "        text-align: right;\n",
       "    }\n",
       "</style>\n",
       "<table border=\"1\" class=\"dataframe\">\n",
       "  <thead>\n",
       "    <tr style=\"text-align: right;\">\n",
       "      <th></th>\n",
       "      <th>text</th>\n",
       "      <th>label</th>\n",
       "    </tr>\n",
       "  </thead>\n",
       "  <tbody>\n",
       "    <tr>\n",
       "      <th>0</th>\n",
       "      <td>He said he had not felt that way before, sugge...</td>\n",
       "      <td>1</td>\n",
       "    </tr>\n",
       "    <tr>\n",
       "      <th>1</th>\n",
       "      <td>Hey there r/assistance, Not sure if this is th...</td>\n",
       "      <td>0</td>\n",
       "    </tr>\n",
       "    <tr>\n",
       "      <th>2</th>\n",
       "      <td>My mom then hit me with the newspaper and it s...</td>\n",
       "      <td>1</td>\n",
       "    </tr>\n",
       "    <tr>\n",
       "      <th>3</th>\n",
       "      <td>until i met my new boyfriend, he is amazing, h...</td>\n",
       "      <td>1</td>\n",
       "    </tr>\n",
       "    <tr>\n",
       "      <th>4</th>\n",
       "      <td>October is Domestic Violence Awareness Month a...</td>\n",
       "      <td>1</td>\n",
       "    </tr>\n",
       "    <tr>\n",
       "      <th>...</th>\n",
       "      <td>...</td>\n",
       "      <td>...</td>\n",
       "    </tr>\n",
       "    <tr>\n",
       "      <th>2833</th>\n",
       "      <td>* Her, a week ago: Precious, how are you? (I i...</td>\n",
       "      <td>0</td>\n",
       "    </tr>\n",
       "    <tr>\n",
       "      <th>2834</th>\n",
       "      <td>I don't have the ability to cope with it anymo...</td>\n",
       "      <td>1</td>\n",
       "    </tr>\n",
       "    <tr>\n",
       "      <th>2835</th>\n",
       "      <td>In case this is the first time you're reading ...</td>\n",
       "      <td>0</td>\n",
       "    </tr>\n",
       "    <tr>\n",
       "      <th>2836</th>\n",
       "      <td>Do you find this normal? They have a good rela...</td>\n",
       "      <td>0</td>\n",
       "    </tr>\n",
       "    <tr>\n",
       "      <th>2837</th>\n",
       "      <td>I was talking to my mom this morning and she s...</td>\n",
       "      <td>1</td>\n",
       "    </tr>\n",
       "  </tbody>\n",
       "</table>\n",
       "<p>2838 rows × 2 columns</p>\n",
       "</div>"
      ],
      "text/plain": [
       "                                                   text  label\n",
       "0     He said he had not felt that way before, sugge...      1\n",
       "1     Hey there r/assistance, Not sure if this is th...      0\n",
       "2     My mom then hit me with the newspaper and it s...      1\n",
       "3     until i met my new boyfriend, he is amazing, h...      1\n",
       "4     October is Domestic Violence Awareness Month a...      1\n",
       "...                                                 ...    ...\n",
       "2833  * Her, a week ago: Precious, how are you? (I i...      0\n",
       "2834  I don't have the ability to cope with it anymo...      1\n",
       "2835  In case this is the first time you're reading ...      0\n",
       "2836  Do you find this normal? They have a good rela...      0\n",
       "2837  I was talking to my mom this morning and she s...      1\n",
       "\n",
       "[2838 rows x 2 columns]"
      ]
     },
     "execution_count": 81,
     "metadata": {},
     "output_type": "execute_result"
    }
   ],
   "source": [
    "data"
   ]
  },
  {
   "cell_type": "code",
   "execution_count": 82,
   "metadata": {},
   "outputs": [],
   "source": [
    "frames = [data,df]\n",
    "result = pd.concat(frames)"
   ]
  },
  {
   "cell_type": "code",
   "execution_count": 83,
   "metadata": {},
   "outputs": [
    {
     "data": {
      "text/html": [
       "<div>\n",
       "<style scoped>\n",
       "    .dataframe tbody tr th:only-of-type {\n",
       "        vertical-align: middle;\n",
       "    }\n",
       "\n",
       "    .dataframe tbody tr th {\n",
       "        vertical-align: top;\n",
       "    }\n",
       "\n",
       "    .dataframe thead th {\n",
       "        text-align: right;\n",
       "    }\n",
       "</style>\n",
       "<table border=\"1\" class=\"dataframe\">\n",
       "  <thead>\n",
       "    <tr style=\"text-align: right;\">\n",
       "      <th></th>\n",
       "      <th>text</th>\n",
       "      <th>label</th>\n",
       "    </tr>\n",
       "  </thead>\n",
       "  <tbody>\n",
       "    <tr>\n",
       "      <th>0</th>\n",
       "      <td>He said he had not felt that way before, sugge...</td>\n",
       "      <td>1</td>\n",
       "    </tr>\n",
       "    <tr>\n",
       "      <th>1</th>\n",
       "      <td>Hey there r/assistance, Not sure if this is th...</td>\n",
       "      <td>0</td>\n",
       "    </tr>\n",
       "    <tr>\n",
       "      <th>2</th>\n",
       "      <td>My mom then hit me with the newspaper and it s...</td>\n",
       "      <td>1</td>\n",
       "    </tr>\n",
       "    <tr>\n",
       "      <th>3</th>\n",
       "      <td>until i met my new boyfriend, he is amazing, h...</td>\n",
       "      <td>1</td>\n",
       "    </tr>\n",
       "    <tr>\n",
       "      <th>4</th>\n",
       "      <td>October is Domestic Violence Awareness Month a...</td>\n",
       "      <td>1</td>\n",
       "    </tr>\n",
       "    <tr>\n",
       "      <th>...</th>\n",
       "      <td>...</td>\n",
       "      <td>...</td>\n",
       "    </tr>\n",
       "    <tr>\n",
       "      <th>53</th>\n",
       "      <td>this is jimin to yoongi unhappy  .2</td>\n",
       "      <td>1</td>\n",
       "    </tr>\n",
       "    <tr>\n",
       "      <th>332</th>\n",
       "      <td>yes it would have if it hadn't been for those...</td>\n",
       "      <td>0</td>\n",
       "    </tr>\n",
       "    <tr>\n",
       "      <th>820</th>\n",
       "      <td>need moodbooster juseyo unhappy</td>\n",
       "      <td>1</td>\n",
       "    </tr>\n",
       "    <tr>\n",
       "      <th>556</th>\n",
       "      <td>congratyoulations Harry!!!!! Been with you sin...</td>\n",
       "      <td>1</td>\n",
       "    </tr>\n",
       "    <tr>\n",
       "      <th>670</th>\n",
       "      <td>iiiiI WOULD LIKE A BOOOK !  fuck off unhappy</td>\n",
       "      <td>1</td>\n",
       "    </tr>\n",
       "  </tbody>\n",
       "</table>\n",
       "<p>5141 rows × 2 columns</p>\n",
       "</div>"
      ],
      "text/plain": [
       "                                                  text  label\n",
       "0    He said he had not felt that way before, sugge...      1\n",
       "1    Hey there r/assistance, Not sure if this is th...      0\n",
       "2    My mom then hit me with the newspaper and it s...      1\n",
       "3    until i met my new boyfriend, he is amazing, h...      1\n",
       "4    October is Domestic Violence Awareness Month a...      1\n",
       "..                                                 ...    ...\n",
       "53                 this is jimin to yoongi unhappy  .2      1\n",
       "332   yes it would have if it hadn't been for those...      0\n",
       "820                  need moodbooster juseyo unhappy        1\n",
       "556  congratyoulations Harry!!!!! Been with you sin...      1\n",
       "670     iiiiI WOULD LIKE A BOOOK !  fuck off unhappy        1\n",
       "\n",
       "[5141 rows x 2 columns]"
      ]
     },
     "execution_count": 83,
     "metadata": {},
     "output_type": "execute_result"
    }
   ],
   "source": [
    "result"
   ]
  },
  {
   "cell_type": "code",
   "execution_count": 84,
   "metadata": {},
   "outputs": [],
   "source": [
    "result.to_csv('preprocessedwithStress.csv')"
   ]
  },
  {
   "cell_type": "code",
   "execution_count": 27,
   "metadata": {},
   "outputs": [
    {
     "name": "stderr",
     "output_type": "stream",
     "text": [
      "[nltk_data] Downloading package stopwords to\n",
      "[nltk_data]     C:\\Users\\Sourabh\\AppData\\Roaming\\nltk_data...\n",
      "[nltk_data]   Package stopwords is already up-to-date!\n",
      "C:\\Users\\Sourabh\\AppData\\Local\\Temp\\ipykernel_1516\\1372381321.py:22: SettingWithCopyWarning: \n",
      "A value is trying to be set on a copy of a slice from a DataFrame.\n",
      "Try using .loc[row_indexer,col_indexer] = value instead\n",
      "\n",
      "See the caveats in the documentation: https://pandas.pydata.org/pandas-docs/stable/user_guide/indexing.html#returning-a-view-versus-a-copy\n",
      "  data[\"text\"] = data[\"text\"].apply(clean)\n"
     ]
    }
   ],
   "source": [
    "import nltk\n",
    "import re\n",
    "nltk.download('stopwords')\n",
    "stemmer = nltk.SnowballStemmer(\"english\")\n",
    "from nltk.corpus import stopwords\n",
    "import string\n",
    "stopword=set(stopwords.words('english'))\n",
    "\n",
    "def clean(text):\n",
    "    text = str(text).lower()\n",
    "    text = re.sub('\\[.*?\\]', '', text)\n",
    "    text = re.sub('https?://\\S+|www\\.\\S+', '', text)\n",
    "    text = re.sub('<.*?>+', '', text)\n",
    "    text = re.sub('[%s]' % re.escape(string.punctuation), '', text)\n",
    "    text = re.sub('\\n', '', text)\n",
    "    text = re.sub('\\w*\\d\\w*', '', text)\n",
    "    text = [word for word in text.split(' ') if word not in stopword]\n",
    "    text=\" \".join(text)\n",
    "    text = [stemmer.stem(word) for word in text.split(' ')]\n",
    "    text=\" \".join(text)\n",
    "    return text\n",
    "data[\"text\"] = data[\"text\"].apply(clean)"
   ]
  },
  {
   "cell_type": "markdown",
   "metadata": {},
   "source": [
    "data[\"label\"] = data[\"label\"].map({0: \"No Stress\", 1: \"Stress\"})\n",
    "data = data[[\"text\", \"label\"]]"
   ]
  },
  {
   "cell_type": "code",
   "execution_count": 29,
   "metadata": {},
   "outputs": [
    {
     "data": {
      "text/html": [
       "<div>\n",
       "<style scoped>\n",
       "    .dataframe tbody tr th:only-of-type {\n",
       "        vertical-align: middle;\n",
       "    }\n",
       "\n",
       "    .dataframe tbody tr th {\n",
       "        vertical-align: top;\n",
       "    }\n",
       "\n",
       "    .dataframe thead th {\n",
       "        text-align: right;\n",
       "    }\n",
       "</style>\n",
       "<table border=\"1\" class=\"dataframe\">\n",
       "  <thead>\n",
       "    <tr style=\"text-align: right;\">\n",
       "      <th></th>\n",
       "      <th>text</th>\n",
       "      <th>label</th>\n",
       "    </tr>\n",
       "  </thead>\n",
       "  <tbody>\n",
       "    <tr>\n",
       "      <th>0</th>\n",
       "      <td>said felt way sugget go rest trigger ahead you...</td>\n",
       "      <td>Stress</td>\n",
       "    </tr>\n",
       "    <tr>\n",
       "      <th>1</th>\n",
       "      <td>hey rassist sure right place post goe  im curr...</td>\n",
       "      <td>No Stress</td>\n",
       "    </tr>\n",
       "    <tr>\n",
       "      <th>2</th>\n",
       "      <td>mom hit newspap shock would know dont like pla...</td>\n",
       "      <td>Stress</td>\n",
       "    </tr>\n",
       "    <tr>\n",
       "      <th>3</th>\n",
       "      <td>met new boyfriend amaz kind sweet good student...</td>\n",
       "      <td>Stress</td>\n",
       "    </tr>\n",
       "    <tr>\n",
       "      <th>4</th>\n",
       "      <td>octob domest violenc awar month domest violenc...</td>\n",
       "      <td>Stress</td>\n",
       "    </tr>\n",
       "  </tbody>\n",
       "</table>\n",
       "</div>"
      ],
      "text/plain": [
       "                                                text      label\n",
       "0  said felt way sugget go rest trigger ahead you...     Stress\n",
       "1  hey rassist sure right place post goe  im curr...  No Stress\n",
       "2  mom hit newspap shock would know dont like pla...     Stress\n",
       "3  met new boyfriend amaz kind sweet good student...     Stress\n",
       "4  octob domest violenc awar month domest violenc...     Stress"
      ]
     },
     "execution_count": 29,
     "metadata": {},
     "output_type": "execute_result"
    }
   ],
   "source": [
    "data.head()"
   ]
  },
  {
   "cell_type": "code",
   "execution_count": null,
   "metadata": {},
   "outputs": [],
   "source": []
  },
  {
   "cell_type": "code",
   "execution_count": 19,
   "metadata": {},
   "outputs": [],
   "source": [
    "# now prerocessing 16 million tweets data"
   ]
  },
  {
   "cell_type": "code",
   "execution_count": null,
   "metadata": {},
   "outputs": [],
   "source": []
  },
  {
   "cell_type": "code",
   "execution_count": 20,
   "metadata": {},
   "outputs": [
    {
     "ename": "FileNotFoundError",
     "evalue": "[Errno 2] No such file or directory: '16mProcessed.csv'",
     "output_type": "error",
     "traceback": [
      "\u001b[1;31m---------------------------------------------------------------------------\u001b[0m",
      "\u001b[1;31mFileNotFoundError\u001b[0m                         Traceback (most recent call last)",
      "\u001b[1;32me:\\Study Material\\CDAC\\Project\\Stress Detection Program\\From_Scratch.ipynb Cell 16'\u001b[0m in \u001b[0;36m<cell line: 1>\u001b[1;34m()\u001b[0m\n\u001b[1;32m----> <a href='vscode-notebook-cell:/e%3A/Study%20Material/CDAC/Project/Stress%20Detection%20Program/From_Scratch.ipynb#ch0000015?line=0'>1</a>\u001b[0m datam \u001b[39m=\u001b[39m pd\u001b[39m.\u001b[39;49mread_csv(\u001b[39m'\u001b[39;49m\u001b[39m16mProcessed.csv\u001b[39;49m\u001b[39m'\u001b[39;49m)\n\u001b[0;32m      <a href='vscode-notebook-cell:/e%3A/Study%20Material/CDAC/Project/Stress%20Detection%20Program/From_Scratch.ipynb#ch0000015?line=1'>2</a>\u001b[0m datam\u001b[39m.\u001b[39mcolumns \u001b[39m=\u001b[39m [\u001b[39m'\u001b[39m\u001b[39museless\u001b[39m\u001b[39m'\u001b[39m,\u001b[39m'\u001b[39m\u001b[39mtext\u001b[39m\u001b[39m'\u001b[39m,\u001b[39m'\u001b[39m\u001b[39mlabel\u001b[39m\u001b[39m'\u001b[39m]\n",
      "File \u001b[1;32mc:\\Users\\Sourabh\\AppData\\Local\\Programs\\Python\\Python39\\lib\\site-packages\\pandas\\util\\_decorators.py:311\u001b[0m, in \u001b[0;36mdeprecate_nonkeyword_arguments.<locals>.decorate.<locals>.wrapper\u001b[1;34m(*args, **kwargs)\u001b[0m\n\u001b[0;32m    305\u001b[0m \u001b[39mif\u001b[39;00m \u001b[39mlen\u001b[39m(args) \u001b[39m>\u001b[39m num_allow_args:\n\u001b[0;32m    306\u001b[0m     warnings\u001b[39m.\u001b[39mwarn(\n\u001b[0;32m    307\u001b[0m         msg\u001b[39m.\u001b[39mformat(arguments\u001b[39m=\u001b[39marguments),\n\u001b[0;32m    308\u001b[0m         \u001b[39mFutureWarning\u001b[39;00m,\n\u001b[0;32m    309\u001b[0m         stacklevel\u001b[39m=\u001b[39mstacklevel,\n\u001b[0;32m    310\u001b[0m     )\n\u001b[1;32m--> 311\u001b[0m \u001b[39mreturn\u001b[39;00m func(\u001b[39m*\u001b[39margs, \u001b[39m*\u001b[39m\u001b[39m*\u001b[39mkwargs)\n",
      "File \u001b[1;32mc:\\Users\\Sourabh\\AppData\\Local\\Programs\\Python\\Python39\\lib\\site-packages\\pandas\\io\\parsers\\readers.py:680\u001b[0m, in \u001b[0;36mread_csv\u001b[1;34m(filepath_or_buffer, sep, delimiter, header, names, index_col, usecols, squeeze, prefix, mangle_dupe_cols, dtype, engine, converters, true_values, false_values, skipinitialspace, skiprows, skipfooter, nrows, na_values, keep_default_na, na_filter, verbose, skip_blank_lines, parse_dates, infer_datetime_format, keep_date_col, date_parser, dayfirst, cache_dates, iterator, chunksize, compression, thousands, decimal, lineterminator, quotechar, quoting, doublequote, escapechar, comment, encoding, encoding_errors, dialect, error_bad_lines, warn_bad_lines, on_bad_lines, delim_whitespace, low_memory, memory_map, float_precision, storage_options)\u001b[0m\n\u001b[0;32m    665\u001b[0m kwds_defaults \u001b[39m=\u001b[39m _refine_defaults_read(\n\u001b[0;32m    666\u001b[0m     dialect,\n\u001b[0;32m    667\u001b[0m     delimiter,\n\u001b[1;32m   (...)\u001b[0m\n\u001b[0;32m    676\u001b[0m     defaults\u001b[39m=\u001b[39m{\u001b[39m\"\u001b[39m\u001b[39mdelimiter\u001b[39m\u001b[39m\"\u001b[39m: \u001b[39m\"\u001b[39m\u001b[39m,\u001b[39m\u001b[39m\"\u001b[39m},\n\u001b[0;32m    677\u001b[0m )\n\u001b[0;32m    678\u001b[0m kwds\u001b[39m.\u001b[39mupdate(kwds_defaults)\n\u001b[1;32m--> 680\u001b[0m \u001b[39mreturn\u001b[39;00m _read(filepath_or_buffer, kwds)\n",
      "File \u001b[1;32mc:\\Users\\Sourabh\\AppData\\Local\\Programs\\Python\\Python39\\lib\\site-packages\\pandas\\io\\parsers\\readers.py:575\u001b[0m, in \u001b[0;36m_read\u001b[1;34m(filepath_or_buffer, kwds)\u001b[0m\n\u001b[0;32m    572\u001b[0m _validate_names(kwds\u001b[39m.\u001b[39mget(\u001b[39m\"\u001b[39m\u001b[39mnames\u001b[39m\u001b[39m\"\u001b[39m, \u001b[39mNone\u001b[39;00m))\n\u001b[0;32m    574\u001b[0m \u001b[39m# Create the parser.\u001b[39;00m\n\u001b[1;32m--> 575\u001b[0m parser \u001b[39m=\u001b[39m TextFileReader(filepath_or_buffer, \u001b[39m*\u001b[39m\u001b[39m*\u001b[39mkwds)\n\u001b[0;32m    577\u001b[0m \u001b[39mif\u001b[39;00m chunksize \u001b[39mor\u001b[39;00m iterator:\n\u001b[0;32m    578\u001b[0m     \u001b[39mreturn\u001b[39;00m parser\n",
      "File \u001b[1;32mc:\\Users\\Sourabh\\AppData\\Local\\Programs\\Python\\Python39\\lib\\site-packages\\pandas\\io\\parsers\\readers.py:933\u001b[0m, in \u001b[0;36mTextFileReader.__init__\u001b[1;34m(self, f, engine, **kwds)\u001b[0m\n\u001b[0;32m    930\u001b[0m     \u001b[39mself\u001b[39m\u001b[39m.\u001b[39moptions[\u001b[39m\"\u001b[39m\u001b[39mhas_index_names\u001b[39m\u001b[39m\"\u001b[39m] \u001b[39m=\u001b[39m kwds[\u001b[39m\"\u001b[39m\u001b[39mhas_index_names\u001b[39m\u001b[39m\"\u001b[39m]\n\u001b[0;32m    932\u001b[0m \u001b[39mself\u001b[39m\u001b[39m.\u001b[39mhandles: IOHandles \u001b[39m|\u001b[39m \u001b[39mNone\u001b[39;00m \u001b[39m=\u001b[39m \u001b[39mNone\u001b[39;00m\n\u001b[1;32m--> 933\u001b[0m \u001b[39mself\u001b[39m\u001b[39m.\u001b[39m_engine \u001b[39m=\u001b[39m \u001b[39mself\u001b[39;49m\u001b[39m.\u001b[39;49m_make_engine(f, \u001b[39mself\u001b[39;49m\u001b[39m.\u001b[39;49mengine)\n",
      "File \u001b[1;32mc:\\Users\\Sourabh\\AppData\\Local\\Programs\\Python\\Python39\\lib\\site-packages\\pandas\\io\\parsers\\readers.py:1217\u001b[0m, in \u001b[0;36mTextFileReader._make_engine\u001b[1;34m(self, f, engine)\u001b[0m\n\u001b[0;32m   1213\u001b[0m     mode \u001b[39m=\u001b[39m \u001b[39m\"\u001b[39m\u001b[39mrb\u001b[39m\u001b[39m\"\u001b[39m\n\u001b[0;32m   1214\u001b[0m \u001b[39m# error: No overload variant of \"get_handle\" matches argument types\u001b[39;00m\n\u001b[0;32m   1215\u001b[0m \u001b[39m# \"Union[str, PathLike[str], ReadCsvBuffer[bytes], ReadCsvBuffer[str]]\"\u001b[39;00m\n\u001b[0;32m   1216\u001b[0m \u001b[39m# , \"str\", \"bool\", \"Any\", \"Any\", \"Any\", \"Any\", \"Any\"\u001b[39;00m\n\u001b[1;32m-> 1217\u001b[0m \u001b[39mself\u001b[39m\u001b[39m.\u001b[39mhandles \u001b[39m=\u001b[39m get_handle(  \u001b[39m# type: ignore[call-overload]\u001b[39;49;00m\n\u001b[0;32m   1218\u001b[0m     f,\n\u001b[0;32m   1219\u001b[0m     mode,\n\u001b[0;32m   1220\u001b[0m     encoding\u001b[39m=\u001b[39;49m\u001b[39mself\u001b[39;49m\u001b[39m.\u001b[39;49moptions\u001b[39m.\u001b[39;49mget(\u001b[39m\"\u001b[39;49m\u001b[39mencoding\u001b[39;49m\u001b[39m\"\u001b[39;49m, \u001b[39mNone\u001b[39;49;00m),\n\u001b[0;32m   1221\u001b[0m     compression\u001b[39m=\u001b[39;49m\u001b[39mself\u001b[39;49m\u001b[39m.\u001b[39;49moptions\u001b[39m.\u001b[39;49mget(\u001b[39m\"\u001b[39;49m\u001b[39mcompression\u001b[39;49m\u001b[39m\"\u001b[39;49m, \u001b[39mNone\u001b[39;49;00m),\n\u001b[0;32m   1222\u001b[0m     memory_map\u001b[39m=\u001b[39;49m\u001b[39mself\u001b[39;49m\u001b[39m.\u001b[39;49moptions\u001b[39m.\u001b[39;49mget(\u001b[39m\"\u001b[39;49m\u001b[39mmemory_map\u001b[39;49m\u001b[39m\"\u001b[39;49m, \u001b[39mFalse\u001b[39;49;00m),\n\u001b[0;32m   1223\u001b[0m     is_text\u001b[39m=\u001b[39;49mis_text,\n\u001b[0;32m   1224\u001b[0m     errors\u001b[39m=\u001b[39;49m\u001b[39mself\u001b[39;49m\u001b[39m.\u001b[39;49moptions\u001b[39m.\u001b[39;49mget(\u001b[39m\"\u001b[39;49m\u001b[39mencoding_errors\u001b[39;49m\u001b[39m\"\u001b[39;49m, \u001b[39m\"\u001b[39;49m\u001b[39mstrict\u001b[39;49m\u001b[39m\"\u001b[39;49m),\n\u001b[0;32m   1225\u001b[0m     storage_options\u001b[39m=\u001b[39;49m\u001b[39mself\u001b[39;49m\u001b[39m.\u001b[39;49moptions\u001b[39m.\u001b[39;49mget(\u001b[39m\"\u001b[39;49m\u001b[39mstorage_options\u001b[39;49m\u001b[39m\"\u001b[39;49m, \u001b[39mNone\u001b[39;49;00m),\n\u001b[0;32m   1226\u001b[0m )\n\u001b[0;32m   1227\u001b[0m \u001b[39massert\u001b[39;00m \u001b[39mself\u001b[39m\u001b[39m.\u001b[39mhandles \u001b[39mis\u001b[39;00m \u001b[39mnot\u001b[39;00m \u001b[39mNone\u001b[39;00m\n\u001b[0;32m   1228\u001b[0m f \u001b[39m=\u001b[39m \u001b[39mself\u001b[39m\u001b[39m.\u001b[39mhandles\u001b[39m.\u001b[39mhandle\n",
      "File \u001b[1;32mc:\\Users\\Sourabh\\AppData\\Local\\Programs\\Python\\Python39\\lib\\site-packages\\pandas\\io\\common.py:789\u001b[0m, in \u001b[0;36mget_handle\u001b[1;34m(path_or_buf, mode, encoding, compression, memory_map, is_text, errors, storage_options)\u001b[0m\n\u001b[0;32m    784\u001b[0m \u001b[39melif\u001b[39;00m \u001b[39misinstance\u001b[39m(handle, \u001b[39mstr\u001b[39m):\n\u001b[0;32m    785\u001b[0m     \u001b[39m# Check whether the filename is to be opened in binary mode.\u001b[39;00m\n\u001b[0;32m    786\u001b[0m     \u001b[39m# Binary mode does not support 'encoding' and 'newline'.\u001b[39;00m\n\u001b[0;32m    787\u001b[0m     \u001b[39mif\u001b[39;00m ioargs\u001b[39m.\u001b[39mencoding \u001b[39mand\u001b[39;00m \u001b[39m\"\u001b[39m\u001b[39mb\u001b[39m\u001b[39m\"\u001b[39m \u001b[39mnot\u001b[39;00m \u001b[39min\u001b[39;00m ioargs\u001b[39m.\u001b[39mmode:\n\u001b[0;32m    788\u001b[0m         \u001b[39m# Encoding\u001b[39;00m\n\u001b[1;32m--> 789\u001b[0m         handle \u001b[39m=\u001b[39m \u001b[39mopen\u001b[39;49m(\n\u001b[0;32m    790\u001b[0m             handle,\n\u001b[0;32m    791\u001b[0m             ioargs\u001b[39m.\u001b[39;49mmode,\n\u001b[0;32m    792\u001b[0m             encoding\u001b[39m=\u001b[39;49mioargs\u001b[39m.\u001b[39;49mencoding,\n\u001b[0;32m    793\u001b[0m             errors\u001b[39m=\u001b[39;49merrors,\n\u001b[0;32m    794\u001b[0m             newline\u001b[39m=\u001b[39;49m\u001b[39m\"\u001b[39;49m\u001b[39m\"\u001b[39;49m,\n\u001b[0;32m    795\u001b[0m         )\n\u001b[0;32m    796\u001b[0m     \u001b[39melse\u001b[39;00m:\n\u001b[0;32m    797\u001b[0m         \u001b[39m# Binary mode\u001b[39;00m\n\u001b[0;32m    798\u001b[0m         handle \u001b[39m=\u001b[39m \u001b[39mopen\u001b[39m(handle, ioargs\u001b[39m.\u001b[39mmode)\n",
      "\u001b[1;31mFileNotFoundError\u001b[0m: [Errno 2] No such file or directory: '16mProcessed.csv'"
     ]
    }
   ],
   "source": [
    "datam = pd.read_csv('16mProcessed.csv')\n",
    "datam.columns = ['useless','text','label']\n",
    "# data16m[\"label\"] = data16m[\"label\"].map({0: 1, 4: 0})"
   ]
  },
  {
   "cell_type": "code",
   "execution_count": null,
   "metadata": {},
   "outputs": [],
   "source": [
    "# data16m.drop(columns='useless')\n",
    "datam.drop(columns='useless',inplace=True)"
   ]
  },
  {
   "cell_type": "code",
   "execution_count": null,
   "metadata": {},
   "outputs": [],
   "source": [
    "datam[\"label\"] = datam[\"label\"].map({0: 1, 4: 0})"
   ]
  },
  {
   "cell_type": "code",
   "execution_count": null,
   "metadata": {},
   "outputs": [
    {
     "data": {
      "text/html": [
       "<div>\n",
       "<style scoped>\n",
       "    .dataframe tbody tr th:only-of-type {\n",
       "        vertical-align: middle;\n",
       "    }\n",
       "\n",
       "    .dataframe tbody tr th {\n",
       "        vertical-align: top;\n",
       "    }\n",
       "\n",
       "    .dataframe thead th {\n",
       "        text-align: right;\n",
       "    }\n",
       "</style>\n",
       "<table border=\"1\" class=\"dataframe\">\n",
       "  <thead>\n",
       "    <tr style=\"text-align: right;\">\n",
       "      <th></th>\n",
       "      <th>text</th>\n",
       "      <th>label</th>\n",
       "    </tr>\n",
       "  </thead>\n",
       "  <tbody>\n",
       "    <tr>\n",
       "      <th>0</th>\n",
       "      <td>is upset that he can't update his Facebook by ...</td>\n",
       "      <td>1</td>\n",
       "    </tr>\n",
       "    <tr>\n",
       "      <th>1</th>\n",
       "      <td>@Kenichan I dived many times for the ball. Man...</td>\n",
       "      <td>1</td>\n",
       "    </tr>\n",
       "    <tr>\n",
       "      <th>2</th>\n",
       "      <td>my whole body feels itchy and like its on fire</td>\n",
       "      <td>1</td>\n",
       "    </tr>\n",
       "    <tr>\n",
       "      <th>3</th>\n",
       "      <td>@nationwideclass no, it's not behaving at all....</td>\n",
       "      <td>1</td>\n",
       "    </tr>\n",
       "    <tr>\n",
       "      <th>4</th>\n",
       "      <td>@Kwesidei not the whole crew</td>\n",
       "      <td>1</td>\n",
       "    </tr>\n",
       "  </tbody>\n",
       "</table>\n",
       "</div>"
      ],
      "text/plain": [
       "                                                text  label\n",
       "0  is upset that he can't update his Facebook by ...      1\n",
       "1  @Kenichan I dived many times for the ball. Man...      1\n",
       "2    my whole body feels itchy and like its on fire       1\n",
       "3  @nationwideclass no, it's not behaving at all....      1\n",
       "4                      @Kwesidei not the whole crew       1"
      ]
     },
     "execution_count": 20,
     "metadata": {},
     "output_type": "execute_result"
    }
   ],
   "source": [
    "datam.head()"
   ]
  },
  {
   "cell_type": "code",
   "execution_count": null,
   "metadata": {},
   "outputs": [],
   "source": [
    "datam = datam.sample(frac=1)"
   ]
  },
  {
   "cell_type": "code",
   "execution_count": null,
   "metadata": {},
   "outputs": [
    {
     "name": "stdout",
     "output_type": "stream",
     "text": [
      "                                                      text  label\n",
      "868865   Randomly inspired for a new graphic design the...      0\n",
      "1102689  @fanf Thanks for the link to that excellent po...      0\n",
      "1180662  @Ypsychs Their name is @BrokeCity and they're ...      0\n",
      "295407   @summer_eyes I bought a pair while Andrew and ...      1\n",
      "1210850                 @pboffer88 Thanks for the follow!       0\n"
     ]
    }
   ],
   "source": [
    "print(datam.head())"
   ]
  },
  {
   "cell_type": "code",
   "execution_count": null,
   "metadata": {},
   "outputs": [
    {
     "ename": "OSError",
     "evalue": "Cannot save file into a non-existent directory: '\\processedData'",
     "output_type": "error",
     "traceback": [
      "\u001b[1;31m---------------------------------------------------------------------------\u001b[0m",
      "\u001b[1;31mOSError\u001b[0m                                   Traceback (most recent call last)",
      "\u001b[1;32me:\\Study Material\\CDAC\\Project\\Stress Detection Program\\From_Scratch.ipynb Cell 22'\u001b[0m in \u001b[0;36m<cell line: 2>\u001b[1;34m()\u001b[0m\n\u001b[0;32m      <a href='vscode-notebook-cell:/e%3A/Study%20Material/CDAC/Project/Stress%20Detection%20Program/From_Scratch.ipynb#ch0000021?line=0'>1</a>\u001b[0m \u001b[39m# Exporting it \u001b[39;00m\n\u001b[1;32m----> <a href='vscode-notebook-cell:/e%3A/Study%20Material/CDAC/Project/Stress%20Detection%20Program/From_Scratch.ipynb#ch0000021?line=1'>2</a>\u001b[0m datam\u001b[39m.\u001b[39;49mto_csv(\u001b[39m'\u001b[39;49m\u001b[39m/processedData/16mFullProcessed.csv\u001b[39;49m\u001b[39m'\u001b[39;49m)\n",
      "File \u001b[1;32mc:\\Users\\Sourabh\\AppData\\Local\\Programs\\Python\\Python39\\lib\\site-packages\\pandas\\core\\generic.py:3551\u001b[0m, in \u001b[0;36mNDFrame.to_csv\u001b[1;34m(self, path_or_buf, sep, na_rep, float_format, columns, header, index, index_label, mode, encoding, compression, quoting, quotechar, line_terminator, chunksize, date_format, doublequote, escapechar, decimal, errors, storage_options)\u001b[0m\n\u001b[0;32m   <a href='file:///c%3A/Users/Sourabh/AppData/Local/Programs/Python/Python39/lib/site-packages/pandas/core/generic.py?line=3539'>3540</a>\u001b[0m df \u001b[39m=\u001b[39m \u001b[39mself\u001b[39m \u001b[39mif\u001b[39;00m \u001b[39misinstance\u001b[39m(\u001b[39mself\u001b[39m, ABCDataFrame) \u001b[39melse\u001b[39;00m \u001b[39mself\u001b[39m\u001b[39m.\u001b[39mto_frame()\n\u001b[0;32m   <a href='file:///c%3A/Users/Sourabh/AppData/Local/Programs/Python/Python39/lib/site-packages/pandas/core/generic.py?line=3541'>3542</a>\u001b[0m formatter \u001b[39m=\u001b[39m DataFrameFormatter(\n\u001b[0;32m   <a href='file:///c%3A/Users/Sourabh/AppData/Local/Programs/Python/Python39/lib/site-packages/pandas/core/generic.py?line=3542'>3543</a>\u001b[0m     frame\u001b[39m=\u001b[39mdf,\n\u001b[0;32m   <a href='file:///c%3A/Users/Sourabh/AppData/Local/Programs/Python/Python39/lib/site-packages/pandas/core/generic.py?line=3543'>3544</a>\u001b[0m     header\u001b[39m=\u001b[39mheader,\n\u001b[1;32m   (...)\u001b[0m\n\u001b[0;32m   <a href='file:///c%3A/Users/Sourabh/AppData/Local/Programs/Python/Python39/lib/site-packages/pandas/core/generic.py?line=3547'>3548</a>\u001b[0m     decimal\u001b[39m=\u001b[39mdecimal,\n\u001b[0;32m   <a href='file:///c%3A/Users/Sourabh/AppData/Local/Programs/Python/Python39/lib/site-packages/pandas/core/generic.py?line=3548'>3549</a>\u001b[0m )\n\u001b[1;32m-> <a href='file:///c%3A/Users/Sourabh/AppData/Local/Programs/Python/Python39/lib/site-packages/pandas/core/generic.py?line=3550'>3551</a>\u001b[0m \u001b[39mreturn\u001b[39;00m DataFrameRenderer(formatter)\u001b[39m.\u001b[39;49mto_csv(\n\u001b[0;32m   <a href='file:///c%3A/Users/Sourabh/AppData/Local/Programs/Python/Python39/lib/site-packages/pandas/core/generic.py?line=3551'>3552</a>\u001b[0m     path_or_buf,\n\u001b[0;32m   <a href='file:///c%3A/Users/Sourabh/AppData/Local/Programs/Python/Python39/lib/site-packages/pandas/core/generic.py?line=3552'>3553</a>\u001b[0m     line_terminator\u001b[39m=\u001b[39;49mline_terminator,\n\u001b[0;32m   <a href='file:///c%3A/Users/Sourabh/AppData/Local/Programs/Python/Python39/lib/site-packages/pandas/core/generic.py?line=3553'>3554</a>\u001b[0m     sep\u001b[39m=\u001b[39;49msep,\n\u001b[0;32m   <a href='file:///c%3A/Users/Sourabh/AppData/Local/Programs/Python/Python39/lib/site-packages/pandas/core/generic.py?line=3554'>3555</a>\u001b[0m     encoding\u001b[39m=\u001b[39;49mencoding,\n\u001b[0;32m   <a href='file:///c%3A/Users/Sourabh/AppData/Local/Programs/Python/Python39/lib/site-packages/pandas/core/generic.py?line=3555'>3556</a>\u001b[0m     errors\u001b[39m=\u001b[39;49merrors,\n\u001b[0;32m   <a href='file:///c%3A/Users/Sourabh/AppData/Local/Programs/Python/Python39/lib/site-packages/pandas/core/generic.py?line=3556'>3557</a>\u001b[0m     compression\u001b[39m=\u001b[39;49mcompression,\n\u001b[0;32m   <a href='file:///c%3A/Users/Sourabh/AppData/Local/Programs/Python/Python39/lib/site-packages/pandas/core/generic.py?line=3557'>3558</a>\u001b[0m     quoting\u001b[39m=\u001b[39;49mquoting,\n\u001b[0;32m   <a href='file:///c%3A/Users/Sourabh/AppData/Local/Programs/Python/Python39/lib/site-packages/pandas/core/generic.py?line=3558'>3559</a>\u001b[0m     columns\u001b[39m=\u001b[39;49mcolumns,\n\u001b[0;32m   <a href='file:///c%3A/Users/Sourabh/AppData/Local/Programs/Python/Python39/lib/site-packages/pandas/core/generic.py?line=3559'>3560</a>\u001b[0m     index_label\u001b[39m=\u001b[39;49mindex_label,\n\u001b[0;32m   <a href='file:///c%3A/Users/Sourabh/AppData/Local/Programs/Python/Python39/lib/site-packages/pandas/core/generic.py?line=3560'>3561</a>\u001b[0m     mode\u001b[39m=\u001b[39;49mmode,\n\u001b[0;32m   <a href='file:///c%3A/Users/Sourabh/AppData/Local/Programs/Python/Python39/lib/site-packages/pandas/core/generic.py?line=3561'>3562</a>\u001b[0m     chunksize\u001b[39m=\u001b[39;49mchunksize,\n\u001b[0;32m   <a href='file:///c%3A/Users/Sourabh/AppData/Local/Programs/Python/Python39/lib/site-packages/pandas/core/generic.py?line=3562'>3563</a>\u001b[0m     quotechar\u001b[39m=\u001b[39;49mquotechar,\n\u001b[0;32m   <a href='file:///c%3A/Users/Sourabh/AppData/Local/Programs/Python/Python39/lib/site-packages/pandas/core/generic.py?line=3563'>3564</a>\u001b[0m     date_format\u001b[39m=\u001b[39;49mdate_format,\n\u001b[0;32m   <a href='file:///c%3A/Users/Sourabh/AppData/Local/Programs/Python/Python39/lib/site-packages/pandas/core/generic.py?line=3564'>3565</a>\u001b[0m     doublequote\u001b[39m=\u001b[39;49mdoublequote,\n\u001b[0;32m   <a href='file:///c%3A/Users/Sourabh/AppData/Local/Programs/Python/Python39/lib/site-packages/pandas/core/generic.py?line=3565'>3566</a>\u001b[0m     escapechar\u001b[39m=\u001b[39;49mescapechar,\n\u001b[0;32m   <a href='file:///c%3A/Users/Sourabh/AppData/Local/Programs/Python/Python39/lib/site-packages/pandas/core/generic.py?line=3566'>3567</a>\u001b[0m     storage_options\u001b[39m=\u001b[39;49mstorage_options,\n\u001b[0;32m   <a href='file:///c%3A/Users/Sourabh/AppData/Local/Programs/Python/Python39/lib/site-packages/pandas/core/generic.py?line=3567'>3568</a>\u001b[0m )\n",
      "File \u001b[1;32mc:\\Users\\Sourabh\\AppData\\Local\\Programs\\Python\\Python39\\lib\\site-packages\\pandas\\io\\formats\\format.py:1180\u001b[0m, in \u001b[0;36mDataFrameRenderer.to_csv\u001b[1;34m(self, path_or_buf, encoding, sep, columns, index_label, mode, compression, quoting, quotechar, line_terminator, chunksize, date_format, doublequote, escapechar, errors, storage_options)\u001b[0m\n\u001b[0;32m   <a href='file:///c%3A/Users/Sourabh/AppData/Local/Programs/Python/Python39/lib/site-packages/pandas/io/formats/format.py?line=1158'>1159</a>\u001b[0m     created_buffer \u001b[39m=\u001b[39m \u001b[39mFalse\u001b[39;00m\n\u001b[0;32m   <a href='file:///c%3A/Users/Sourabh/AppData/Local/Programs/Python/Python39/lib/site-packages/pandas/io/formats/format.py?line=1160'>1161</a>\u001b[0m csv_formatter \u001b[39m=\u001b[39m CSVFormatter(\n\u001b[0;32m   <a href='file:///c%3A/Users/Sourabh/AppData/Local/Programs/Python/Python39/lib/site-packages/pandas/io/formats/format.py?line=1161'>1162</a>\u001b[0m     path_or_buf\u001b[39m=\u001b[39mpath_or_buf,\n\u001b[0;32m   <a href='file:///c%3A/Users/Sourabh/AppData/Local/Programs/Python/Python39/lib/site-packages/pandas/io/formats/format.py?line=1162'>1163</a>\u001b[0m     line_terminator\u001b[39m=\u001b[39mline_terminator,\n\u001b[1;32m   (...)\u001b[0m\n\u001b[0;32m   <a href='file:///c%3A/Users/Sourabh/AppData/Local/Programs/Python/Python39/lib/site-packages/pandas/io/formats/format.py?line=1177'>1178</a>\u001b[0m     formatter\u001b[39m=\u001b[39m\u001b[39mself\u001b[39m\u001b[39m.\u001b[39mfmt,\n\u001b[0;32m   <a href='file:///c%3A/Users/Sourabh/AppData/Local/Programs/Python/Python39/lib/site-packages/pandas/io/formats/format.py?line=1178'>1179</a>\u001b[0m )\n\u001b[1;32m-> <a href='file:///c%3A/Users/Sourabh/AppData/Local/Programs/Python/Python39/lib/site-packages/pandas/io/formats/format.py?line=1179'>1180</a>\u001b[0m csv_formatter\u001b[39m.\u001b[39;49msave()\n\u001b[0;32m   <a href='file:///c%3A/Users/Sourabh/AppData/Local/Programs/Python/Python39/lib/site-packages/pandas/io/formats/format.py?line=1181'>1182</a>\u001b[0m \u001b[39mif\u001b[39;00m created_buffer:\n\u001b[0;32m   <a href='file:///c%3A/Users/Sourabh/AppData/Local/Programs/Python/Python39/lib/site-packages/pandas/io/formats/format.py?line=1182'>1183</a>\u001b[0m     \u001b[39massert\u001b[39;00m \u001b[39misinstance\u001b[39m(path_or_buf, StringIO)\n",
      "File \u001b[1;32mc:\\Users\\Sourabh\\AppData\\Local\\Programs\\Python\\Python39\\lib\\site-packages\\pandas\\io\\formats\\csvs.py:241\u001b[0m, in \u001b[0;36mCSVFormatter.save\u001b[1;34m(self)\u001b[0m\n\u001b[0;32m    <a href='file:///c%3A/Users/Sourabh/AppData/Local/Programs/Python/Python39/lib/site-packages/pandas/io/formats/csvs.py?line=236'>237</a>\u001b[0m \u001b[39m\"\"\"\u001b[39;00m\n\u001b[0;32m    <a href='file:///c%3A/Users/Sourabh/AppData/Local/Programs/Python/Python39/lib/site-packages/pandas/io/formats/csvs.py?line=237'>238</a>\u001b[0m \u001b[39mCreate the writer & save.\u001b[39;00m\n\u001b[0;32m    <a href='file:///c%3A/Users/Sourabh/AppData/Local/Programs/Python/Python39/lib/site-packages/pandas/io/formats/csvs.py?line=238'>239</a>\u001b[0m \u001b[39m\"\"\"\u001b[39;00m\n\u001b[0;32m    <a href='file:///c%3A/Users/Sourabh/AppData/Local/Programs/Python/Python39/lib/site-packages/pandas/io/formats/csvs.py?line=239'>240</a>\u001b[0m \u001b[39m# apply compression and byte/text conversion\u001b[39;00m\n\u001b[1;32m--> <a href='file:///c%3A/Users/Sourabh/AppData/Local/Programs/Python/Python39/lib/site-packages/pandas/io/formats/csvs.py?line=240'>241</a>\u001b[0m \u001b[39mwith\u001b[39;00m get_handle(\n\u001b[0;32m    <a href='file:///c%3A/Users/Sourabh/AppData/Local/Programs/Python/Python39/lib/site-packages/pandas/io/formats/csvs.py?line=241'>242</a>\u001b[0m     \u001b[39mself\u001b[39;49m\u001b[39m.\u001b[39;49mfilepath_or_buffer,\n\u001b[0;32m    <a href='file:///c%3A/Users/Sourabh/AppData/Local/Programs/Python/Python39/lib/site-packages/pandas/io/formats/csvs.py?line=242'>243</a>\u001b[0m     \u001b[39mself\u001b[39;49m\u001b[39m.\u001b[39;49mmode,\n\u001b[0;32m    <a href='file:///c%3A/Users/Sourabh/AppData/Local/Programs/Python/Python39/lib/site-packages/pandas/io/formats/csvs.py?line=243'>244</a>\u001b[0m     encoding\u001b[39m=\u001b[39;49m\u001b[39mself\u001b[39;49m\u001b[39m.\u001b[39;49mencoding,\n\u001b[0;32m    <a href='file:///c%3A/Users/Sourabh/AppData/Local/Programs/Python/Python39/lib/site-packages/pandas/io/formats/csvs.py?line=244'>245</a>\u001b[0m     errors\u001b[39m=\u001b[39;49m\u001b[39mself\u001b[39;49m\u001b[39m.\u001b[39;49merrors,\n\u001b[0;32m    <a href='file:///c%3A/Users/Sourabh/AppData/Local/Programs/Python/Python39/lib/site-packages/pandas/io/formats/csvs.py?line=245'>246</a>\u001b[0m     compression\u001b[39m=\u001b[39;49m\u001b[39mself\u001b[39;49m\u001b[39m.\u001b[39;49mcompression,\n\u001b[0;32m    <a href='file:///c%3A/Users/Sourabh/AppData/Local/Programs/Python/Python39/lib/site-packages/pandas/io/formats/csvs.py?line=246'>247</a>\u001b[0m     storage_options\u001b[39m=\u001b[39;49m\u001b[39mself\u001b[39;49m\u001b[39m.\u001b[39;49mstorage_options,\n\u001b[0;32m    <a href='file:///c%3A/Users/Sourabh/AppData/Local/Programs/Python/Python39/lib/site-packages/pandas/io/formats/csvs.py?line=247'>248</a>\u001b[0m ) \u001b[39mas\u001b[39;00m handles:\n\u001b[0;32m    <a href='file:///c%3A/Users/Sourabh/AppData/Local/Programs/Python/Python39/lib/site-packages/pandas/io/formats/csvs.py?line=248'>249</a>\u001b[0m \n\u001b[0;32m    <a href='file:///c%3A/Users/Sourabh/AppData/Local/Programs/Python/Python39/lib/site-packages/pandas/io/formats/csvs.py?line=249'>250</a>\u001b[0m     \u001b[39m# Note: self.encoding is irrelevant here\u001b[39;00m\n\u001b[0;32m    <a href='file:///c%3A/Users/Sourabh/AppData/Local/Programs/Python/Python39/lib/site-packages/pandas/io/formats/csvs.py?line=250'>251</a>\u001b[0m     \u001b[39mself\u001b[39m\u001b[39m.\u001b[39mwriter \u001b[39m=\u001b[39m csvlib\u001b[39m.\u001b[39mwriter(\n\u001b[0;32m    <a href='file:///c%3A/Users/Sourabh/AppData/Local/Programs/Python/Python39/lib/site-packages/pandas/io/formats/csvs.py?line=251'>252</a>\u001b[0m         handles\u001b[39m.\u001b[39mhandle,\n\u001b[0;32m    <a href='file:///c%3A/Users/Sourabh/AppData/Local/Programs/Python/Python39/lib/site-packages/pandas/io/formats/csvs.py?line=252'>253</a>\u001b[0m         lineterminator\u001b[39m=\u001b[39m\u001b[39mself\u001b[39m\u001b[39m.\u001b[39mline_terminator,\n\u001b[1;32m   (...)\u001b[0m\n\u001b[0;32m    <a href='file:///c%3A/Users/Sourabh/AppData/Local/Programs/Python/Python39/lib/site-packages/pandas/io/formats/csvs.py?line=257'>258</a>\u001b[0m         quotechar\u001b[39m=\u001b[39m\u001b[39mself\u001b[39m\u001b[39m.\u001b[39mquotechar,\n\u001b[0;32m    <a href='file:///c%3A/Users/Sourabh/AppData/Local/Programs/Python/Python39/lib/site-packages/pandas/io/formats/csvs.py?line=258'>259</a>\u001b[0m     )\n\u001b[0;32m    <a href='file:///c%3A/Users/Sourabh/AppData/Local/Programs/Python/Python39/lib/site-packages/pandas/io/formats/csvs.py?line=260'>261</a>\u001b[0m     \u001b[39mself\u001b[39m\u001b[39m.\u001b[39m_save()\n",
      "File \u001b[1;32mc:\\Users\\Sourabh\\AppData\\Local\\Programs\\Python\\Python39\\lib\\site-packages\\pandas\\io\\common.py:697\u001b[0m, in \u001b[0;36mget_handle\u001b[1;34m(path_or_buf, mode, encoding, compression, memory_map, is_text, errors, storage_options)\u001b[0m\n\u001b[0;32m    <a href='file:///c%3A/Users/Sourabh/AppData/Local/Programs/Python/Python39/lib/site-packages/pandas/io/common.py?line=694'>695</a>\u001b[0m \u001b[39m# Only for write methods\u001b[39;00m\n\u001b[0;32m    <a href='file:///c%3A/Users/Sourabh/AppData/Local/Programs/Python/Python39/lib/site-packages/pandas/io/common.py?line=695'>696</a>\u001b[0m \u001b[39mif\u001b[39;00m \u001b[39m\"\u001b[39m\u001b[39mr\u001b[39m\u001b[39m\"\u001b[39m \u001b[39mnot\u001b[39;00m \u001b[39min\u001b[39;00m mode \u001b[39mand\u001b[39;00m is_path:\n\u001b[1;32m--> <a href='file:///c%3A/Users/Sourabh/AppData/Local/Programs/Python/Python39/lib/site-packages/pandas/io/common.py?line=696'>697</a>\u001b[0m     check_parent_directory(\u001b[39mstr\u001b[39;49m(handle))\n\u001b[0;32m    <a href='file:///c%3A/Users/Sourabh/AppData/Local/Programs/Python/Python39/lib/site-packages/pandas/io/common.py?line=698'>699</a>\u001b[0m \u001b[39mif\u001b[39;00m compression:\n\u001b[0;32m    <a href='file:///c%3A/Users/Sourabh/AppData/Local/Programs/Python/Python39/lib/site-packages/pandas/io/common.py?line=699'>700</a>\u001b[0m     \u001b[39mif\u001b[39;00m compression \u001b[39m!=\u001b[39m \u001b[39m\"\u001b[39m\u001b[39mzstd\u001b[39m\u001b[39m\"\u001b[39m:\n\u001b[0;32m    <a href='file:///c%3A/Users/Sourabh/AppData/Local/Programs/Python/Python39/lib/site-packages/pandas/io/common.py?line=700'>701</a>\u001b[0m         \u001b[39m# compression libraries do not like an explicit text-mode\u001b[39;00m\n",
      "File \u001b[1;32mc:\\Users\\Sourabh\\AppData\\Local\\Programs\\Python\\Python39\\lib\\site-packages\\pandas\\io\\common.py:571\u001b[0m, in \u001b[0;36mcheck_parent_directory\u001b[1;34m(path)\u001b[0m\n\u001b[0;32m    <a href='file:///c%3A/Users/Sourabh/AppData/Local/Programs/Python/Python39/lib/site-packages/pandas/io/common.py?line=568'>569</a>\u001b[0m parent \u001b[39m=\u001b[39m Path(path)\u001b[39m.\u001b[39mparent\n\u001b[0;32m    <a href='file:///c%3A/Users/Sourabh/AppData/Local/Programs/Python/Python39/lib/site-packages/pandas/io/common.py?line=569'>570</a>\u001b[0m \u001b[39mif\u001b[39;00m \u001b[39mnot\u001b[39;00m parent\u001b[39m.\u001b[39mis_dir():\n\u001b[1;32m--> <a href='file:///c%3A/Users/Sourabh/AppData/Local/Programs/Python/Python39/lib/site-packages/pandas/io/common.py?line=570'>571</a>\u001b[0m     \u001b[39mraise\u001b[39;00m \u001b[39mOSError\u001b[39;00m(\u001b[39mrf\u001b[39m\u001b[39m\"\u001b[39m\u001b[39mCannot save file into a non-existent directory: \u001b[39m\u001b[39m'\u001b[39m\u001b[39m{\u001b[39;00mparent\u001b[39m}\u001b[39;00m\u001b[39m'\u001b[39m\u001b[39m\"\u001b[39m)\n",
      "\u001b[1;31mOSError\u001b[0m: Cannot save file into a non-existent directory: '\\processedData'"
     ]
    }
   ],
   "source": [
    "# Exporting it \n",
    "datam.to_csv('/Processed Data/16mFullProcessed.csv')\n"
   ]
  },
  {
   "cell_type": "code",
   "execution_count": null,
   "metadata": {},
   "outputs": [],
   "source": []
  }
 ],
 "metadata": {
  "interpreter": {
   "hash": "7833405a848010c8f5ee627294eef4b1a3d1d25a1c66c8468dbe8daa99af938d"
  },
  "kernelspec": {
   "display_name": "Python 3.9.13 64-bit",
   "language": "python",
   "name": "python3"
  },
  "language_info": {
   "codemirror_mode": {
    "name": "ipython",
    "version": 3
   },
   "file_extension": ".py",
   "mimetype": "text/x-python",
   "name": "python",
   "nbconvert_exporter": "python",
   "pygments_lexer": "ipython3",
   "version": "3.9.13"
  },
  "orig_nbformat": 4
 },
 "nbformat": 4,
 "nbformat_minor": 2
}
